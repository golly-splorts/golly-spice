{
 "cells": [
  {
   "cell_type": "markdown",
   "id": "9c1c5443",
   "metadata": {},
   "source": [
    "# Analysis of Point Totals By Team (and Map)\n",
    "\n",
    "## For Spread Bets"
   ]
  },
  {
   "cell_type": "code",
   "execution_count": 37,
   "id": "c7bd6c0f",
   "metadata": {},
   "outputs": [],
   "source": [
    "import os, sys, subprocess, json, time\n",
    "from pprint import pprint\n",
    "\n",
    "import numpy as np\n",
    "import matplotlib.pyplot as plt\n",
    "import seaborn as sns"
   ]
  },
  {
   "cell_type": "code",
   "execution_count": 38,
   "id": "33829412",
   "metadata": {},
   "outputs": [],
   "source": [
    "xkcd_colors = sns.xkcd_rgb\n",
    "GOLLY_GRAY = \"#272B30\""
   ]
  },
  {
   "cell_type": "markdown",
   "id": "69c282a5",
   "metadata": {},
   "source": [
    "## Loading Match Data\n",
    "\n",
    "Start by loading match data from the `data/` dir:"
   ]
  },
  {
   "cell_type": "code",
   "execution_count": 39,
   "id": "d4c134d3",
   "metadata": {},
   "outputs": [
    {
     "name": "stdout",
     "output_type": "stream",
     "text": [
      "clone.sh\n",
      "gollyx-dragon-data\n",
      "gollyx-hellmouth-data\n",
      "gollyx-klein-data\n",
      "gollyx-pseudo-data\n",
      "gollyx-rainbow-data\n",
      "gollyx-star-data\n",
      "gollyx-toroidal-data\n",
      "\n"
     ]
    }
   ],
   "source": [
    "def run_cmd(cmd_str):\n",
    "    child = subprocess.Popen(cmd_str, shell=True, stdout=subprocess.PIPE)\n",
    "    output = child.communicate()[0].decode()\n",
    "    return output\n",
    "\n",
    "print(run_cmd('ls ../data/'))"
   ]
  },
  {
   "cell_type": "markdown",
   "id": "d10a78d5",
   "metadata": {},
   "source": [
    "## Method to load regular season data\n",
    "\n",
    "user specifies the cup and the season."
   ]
  },
  {
   "cell_type": "code",
   "execution_count": 40,
   "id": "8b8a4fb4",
   "metadata": {},
   "outputs": [],
   "source": [
    "def fetch_season_data(cup, which_season0):\n",
    "    cup = cup.lower()\n",
    "    seas_file = os.path.join('..', 'data', f'gollyx-{cup}-data', f'season{which_season0}', 'season.json')\n",
    "    if not os.path.exists(seas_file):\n",
    "        raise Exception(f\"Error: season {which_season0} not valid: {seas_file} does not exist\")\n",
    "    with open(seas_file, 'r') as f:\n",
    "        season0_seas = json.load(f)\n",
    "    return season0_seas"
   ]
  },
  {
   "cell_type": "code",
   "execution_count": 41,
   "id": "44f93de9",
   "metadata": {},
   "outputs": [],
   "source": [
    "def fetch_postseason_data(cup, which_season0):\n",
    "    cup = cup.lower()\n",
    "    post_file = os.path.join('..', 'data', f'gollyx-{cup}-data', f'season{which_season0}', 'postseason.json')\n",
    "    if not os.path.exists(post_file):\n",
    "        raise Exception(f\"Error: season {which_season0} not valid: {post_file} does not exist\")\n",
    "    with open(post_file, 'r') as f:\n",
    "        season0_post = json.load(f)\n",
    "    return season0_post"
   ]
  },
  {
   "cell_type": "markdown",
   "id": "1931c3f8",
   "metadata": {},
   "source": [
    "## Test drive\n",
    "\n",
    "We use the methods above to extract point totals and splits for each game, and collate it by map."
   ]
  },
  {
   "cell_type": "code",
   "execution_count": 42,
   "id": "81aeeb14",
   "metadata": {},
   "outputs": [
    {
     "name": "stdout",
     "output_type": "stream",
     "text": [
      "11\n"
     ]
    }
   ],
   "source": [
    "season0 = 3\n",
    "sdat = fetch_season_data('klein', season0)\n",
    "pdat = fetch_postseason_data('klein', season0)\n",
    "\n",
    "print(len(sdat))"
   ]
  },
  {
   "cell_type": "code",
   "execution_count": 43,
   "id": "547f75f0",
   "metadata": {},
   "outputs": [
    {
     "name": "stdout",
     "output_type": "stream",
     "text": [
      "East Hellmouth's Revenge\n",
      "528\n",
      "398\n"
     ]
    }
   ],
   "source": [
    "# # Print a sample game\n",
    "# pprint(sdat[0][0])\n",
    "\n",
    "# Get info about the map\n",
    "# print(sdat[0][0]['map'].keys())\n",
    "print(sdat[0][0]['map']['mapName'])\n",
    "\n",
    "# Get the point total\n",
    "print(sdat[0][0]['team1Score'] + sdat[0][0]['team2Score'])\n",
    "\n",
    "# Get the differential\n",
    "print(abs(sdat[0][0]['team1Score'] - sdat[0][0]['team2Score']))"
   ]
  },
  {
   "cell_type": "markdown",
   "id": "46d13b62",
   "metadata": {},
   "source": [
    "## Method to assemble point totals by team & map name\n",
    "\n",
    "Compile methods to extract and compile point totals, given either a season and a postseason data structure.\n",
    "\n",
    "Then iterate over each season number, request the data, and compile the map point totals."
   ]
  },
  {
   "cell_type": "code",
   "execution_count": 44,
   "id": "456e4495",
   "metadata": {},
   "outputs": [],
   "source": [
    "def _handle_it(game_, totals_):\n",
    "    map_name = game_['map']['mapName']\n",
    "\n",
    "    tup1 = (map_name, game_['team1Abbr'])\n",
    "    if tup1 not in totals_:\n",
    "        totals_[tup1] = []\n",
    "\n",
    "    tup2 = (map_name, game_['team2Abbr'])\n",
    "    if tup2 not in totals_:\n",
    "        totals_[tup2] = []\n",
    "\n",
    "    totals_[tup1].append(game_['team1Score'])\n",
    "    totals_[tup2].append(game_['team2Score'])"
   ]
  },
  {
   "cell_type": "code",
   "execution_count": 45,
   "id": "dcbd8a74",
   "metadata": {},
   "outputs": [],
   "source": [
    "def compile_totals_diffs_by_map(season_dat, postseason_dat, totals={}):\n",
    "\n",
    "    # Season first\n",
    "    for day in season_dat:\n",
    "        for game in day:\n",
    "            _handle_it(game, totals)\n",
    "\n",
    "    # Postseason second\n",
    "    for series in postseason_dat:\n",
    "        miniseason = postseason_dat[series]\n",
    "        for day in miniseason:\n",
    "            for game in day:\n",
    "                _handle_it(game, totals)\n",
    "    \n",
    "    return totals"
   ]
  },
  {
   "cell_type": "markdown",
   "id": "4845ef32",
   "metadata": {},
   "source": [
    "### Try it out on a single season\n",
    "\n",
    "Here is what the above method returns when run on a single season:"
   ]
  },
  {
   "cell_type": "code",
   "execution_count": 46,
   "id": "13191982",
   "metadata": {},
   "outputs": [
    {
     "name": "stdout",
     "output_type": "stream",
     "text": [
      "{('Because Math', 'BPT'): [434, 91],\n",
      " ('Because Math', 'DECO'): [275],\n",
      " ('Because Math', 'DET'): [334, 233, 102],\n",
      " ('Because Math', 'EA'): [174],\n",
      " ('Because Math', 'LBFB'): [452],\n",
      " ('Because Math', 'MILF'): [404, 577],\n",
      " ('Because Math', 'OSHA'): [202],\n",
      " ('Because Math', 'SAC'): [245],\n",
      " ('Because Math', 'SGE'): [384],\n",
      " ('Because Math', 'SLC'): [155, 467],\n",
      " ('Because Math', 'SS'): [309],\n",
      " ('Because Math', 'VV'): [341, 331],\n",
      " ('Carcinization', 'BPT'): [127, 163],\n",
      " ('Carcinization', 'DECO'): [109],\n",
      " ('Carcinization', 'EA'): [120],\n",
      " ('Carcinization', 'FF'): [391, 108],\n",
      " ('Carcinization', 'SDBA'): [132],\n",
      " ('Carcinization', 'SFBS'): [115],\n",
      " ('Carcinization', 'SLC'): [305],\n",
      " ('Carcinization', 'SS'): [391],\n",
      " ('Charlie Foxtrot', 'AA'): [195, 25],\n",
      " ('Charlie Foxtrot', 'DET'): [327, 382, 298, 437],\n",
      " ('Charlie Foxtrot', 'EA'): [165],\n",
      " ('Charlie Foxtrot', 'FFF'): [83],\n",
      " ('Charlie Foxtrot', 'MILF'): [197, 130],\n",
      " ('Charlie Foxtrot', 'SDBA'): [135, 154],\n",
      " ('Charlie Foxtrot', 'SGE'): [55],\n",
      " ('Charlie Foxtrot', 'SLC'): [422],\n",
      " ('Crash and Burn', 'ABQ'): [45],\n",
      " ('Crash and Burn', 'BB'): [232, 151],\n",
      " ('Crash and Burn', 'DECO'): [125, 166],\n",
      " ('Crash and Burn', 'DET'): [158],\n",
      " ('Crash and Burn', 'EA'): [487, 46],\n",
      " ('Crash and Burn', 'FFF'): [372],\n",
      " ('Crash and Burn', 'LBFB'): [258],\n",
      " ('Crash and Burn', 'MILF'): [36],\n",
      " ('Crash and Burn', 'OSHA'): [81, 293],\n",
      " ('Crash and Burn', 'SFBS'): [64, 350],\n",
      " ('Crash and Burn', 'SGE'): [191, 48],\n",
      " ('Crash and Burn', 'SS'): [80, 221, 137],\n",
      " ('Crash and Burn', 'TB'): [198],\n",
      " ('Crash and Burn', 'VV'): [212],\n",
      " ('Donut Hot Tub', 'AA'): [414, 462],\n",
      " ('Donut Hot Tub', 'BB'): [227],\n",
      " ('Donut Hot Tub', 'EA'): [332, 443],\n",
      " ('Donut Hot Tub', 'FF'): [146],\n",
      " ('Donut Hot Tub', 'MILF'): [115],\n",
      " ('Donut Hot Tub', 'SFBS'): [374],\n",
      " ('Donut Hot Tub', 'SGE'): [157],\n",
      " ('Donut Hot Tub', 'SLC'): [264],\n",
      " ('Double Rainbow', 'BPT'): [294, 141],\n",
      " ('Double Rainbow', 'FF'): [264],\n",
      " ('Double Rainbow', 'MILF'): [499, 162],\n",
      " ('Double Rainbow', 'SDBA'): [119],\n",
      " ('Double Rainbow', 'SFBS'): [157],\n",
      " ('Double Rainbow', 'SGE'): [210],\n",
      " ('Double Rainbow', 'SS'): [398],\n",
      " ('Double Rainbow', 'TB'): [398],\n",
      " ('East Hellmouth', 'AA'): [260],\n",
      " ('East Hellmouth', 'ABQ'): [208],\n",
      " ('East Hellmouth', 'SAC'): [452],\n",
      " ('East Hellmouth', 'SGE'): [354],\n",
      " ('East Hellmouth', 'SS'): [389],\n",
      " ('East Hellmouth', 'TB'): [128],\n",
      " (\"East Hellmouth's Revenge\", 'BPT'): [380],\n",
      " (\"East Hellmouth's Revenge\", 'DECO'): [154],\n",
      " (\"East Hellmouth's Revenge\", 'EA'): [273],\n",
      " (\"East Hellmouth's Revenge\", 'LBFB'): [253],\n",
      " (\"East Hellmouth's Revenge\", 'MILF'): [391],\n",
      " (\"East Hellmouth's Revenge\", 'OSHA'): [327],\n",
      " (\"East Hellmouth's Revenge\", 'SFBS'): [262],\n",
      " (\"East Hellmouth's Revenge\", 'SLC'): [264],\n",
      " (\"East Hellmouth's Revenge\", 'SS'): [143],\n",
      " (\"East Hellmouth's Revenge\", 'TB'): [479],\n",
      " ('Engine Room', 'ABQ'): [113],\n",
      " ('Engine Room', 'BPT'): [471, 153],\n",
      " ('Engine Room', 'FF'): [359],\n",
      " ('Engine Room', 'OSHA'): [219],\n",
      " ('Engine Room', 'SAC'): [205, 254],\n",
      " ('Engine Room', 'SFBS'): [233],\n",
      " ('Engine Room', 'SLC'): [333],\n",
      " ('Engine Room', 'SS'): [284],\n",
      " ('Fistfight at the Opera', 'BB'): [182],\n",
      " ('Fistfight at the Opera', 'MILF'): [350, 361],\n",
      " ('Fistfight at the Opera', 'SGE'): [201],\n",
      " ('Justyna', 'AA'): [84],\n",
      " ('Justyna', 'ABQ'): [342],\n",
      " ('Justyna', 'DET'): [269],\n",
      " ('Justyna', 'SAC'): [198],\n",
      " ('Justyna', 'SGE'): [344],\n",
      " ('Justyna', 'SS'): [303, 149],\n",
      " ('Justyna', 'TB'): [149, 204],\n",
      " ('Justyna', 'VV'): [132],\n",
      " ('Morning Commute', 'AA'): [275],\n",
      " ('Morning Commute', 'ABQ'): [183],\n",
      " ('Morning Commute', 'BPT'): [240],\n",
      " ('Morning Commute', 'DET'): [188, 296],\n",
      " ('Morning Commute', 'EA'): [499],\n",
      " ('Morning Commute', 'MILF'): [153],\n",
      " ('Morning Commute', 'OSHA'): [178, 216, 317],\n",
      " ('Morning Commute', 'SAC'): [396],\n",
      " ('Morning Commute', 'SDBA'): [232],\n",
      " ('Morning Commute', 'SS'): [273],\n",
      " ('Morning Commute', 'TB'): [61, 316, 324],\n",
      " ('Parking Garage', 'BB'): [274],\n",
      " ('Parking Garage', 'DECO'): [252],\n",
      " ('Parking Garage', 'MILF'): [194, 165],\n",
      " ('Parking Garage', 'TB'): [209],\n",
      " ('Parking Garage', 'VV'): [50],\n",
      " ('Rabbit Farm', 'AA'): [55],\n",
      " ('Rabbit Farm', 'ABQ'): [205],\n",
      " ('Rabbit Farm', 'FF'): [275],\n",
      " ('Rabbit Farm', 'FFF'): [496],\n",
      " ('Rabbit Farm', 'LBFB'): [204, 120, 275],\n",
      " ('Rabbit Farm', 'SDBA'): [469],\n",
      " ('Rabbit Farm', 'TB'): [276, 348],\n",
      " ('Spacetime Complex', 'DECO'): [180],\n",
      " ('Spacetime Complex', 'DET'): [168],\n",
      " ('Spacetime Complex', 'FF'): [168],\n",
      " ('Spacetime Complex', 'FFF'): [93],\n",
      " ('Spacetime Complex', 'MILF'): [254, 136],\n",
      " ('Spacetime Complex', 'OSHA'): [96, 385],\n",
      " ('Spacetime Complex', 'SFBS'): [177],\n",
      " ('Spacetime Complex', 'SLC'): [109],\n",
      " ('Spacetime Complex', 'SS'): [194],\n",
      " ('Spacetime Complex', 'TB'): [297, 141],\n",
      " ('Spacetime Complex', 'VV'): [186],\n",
      " ('Spider Cave', 'DECO'): [252],\n",
      " ('Spider Cave', 'DET'): [273],\n",
      " ('Sunbeam Moondog', 'DECO'): [115],\n",
      " ('Sunbeam Moondog', 'DET'): [244, 253],\n",
      " ('Sunbeam Moondog', 'FF'): [96],\n",
      " ('Sunbeam Moondog', 'FFF'): [84, 136],\n",
      " ('Sunbeam Moondog', 'SAC'): [183, 245],\n",
      " ('Sunbeam Moondog', 'SDBA'): [201],\n",
      " ('Sunbeam Moondog', 'SGE'): [282],\n",
      " ('Sunbeam Moondog', 'SLC'): [120],\n",
      " ('Sunbeam Moondog', 'TB'): [369],\n",
      " ('The Orchard', 'ABQ'): [399],\n",
      " ('The Orchard', 'BPT'): [501, 487],\n",
      " ('The Orchard', 'DET'): [239],\n",
      " ('The Orchard', 'EA'): [72],\n",
      " ('The Orchard', 'FF'): [262],\n",
      " ('The Orchard', 'FFF'): [223],\n",
      " ('The Orchard', 'SDBA'): [162],\n",
      " ('The Orchard', 'SFBS'): [312, 228],\n",
      " ('The Orchard', 'SGE'): [281],\n",
      " ('The Orchard', 'SLC'): [145],\n",
      " ('The Orchard', 'SS'): [93],\n",
      " ('The Orchard', 'TB'): [312, 364],\n",
      " ('The Orchard', 'VV'): [299],\n",
      " ('The Quad', 'BB'): [266],\n",
      " ('The Quad', 'EA'): [130],\n",
      " ('The Quad', 'LBFB'): [104, 106],\n",
      " ('The Quad', 'MILF'): [301, 308],\n",
      " ('The Quad', 'SAC'): [412],\n",
      " ('The Quad', 'SFBS'): [195],\n",
      " ('The Quad', 'SS'): [154],\n",
      " ('The Quad', 'TB'): [188],\n",
      " ('The Quad', 'VV'): [235, 288],\n",
      " ('The Zoo', 'AA'): [135],\n",
      " ('The Zoo', 'ABQ'): [149],\n",
      " ('The Zoo', 'DET'): [68],\n",
      " ('The Zoo', 'FF'): [162],\n",
      " ('The Zoo', 'FFF'): [301, 262],\n",
      " ('The Zoo', 'LBFB'): [187],\n",
      " ('The Zoo', 'MILF'): [102, 206],\n",
      " ('The Zoo', 'SDBA'): [240, 39],\n",
      " ('The Zoo', 'SGE'): [335, 154, 447],\n",
      " ('The Zoo', 'SS'): [147],\n",
      " ('The Zoo', 'TB'): [316, 638, 350],\n",
      " ('Underground Cave Complex', 'BB'): [399],\n",
      " ('Underground Cave Complex', 'DECO'): [83],\n",
      " ('Underground Cave Complex', 'DET'): [89, 150, 50, 339],\n",
      " ('Underground Cave Complex', 'FF'): [141],\n",
      " ('Underground Cave Complex', 'FFF'): [122],\n",
      " ('Underground Cave Complex', 'LBFB'): [23, 288],\n",
      " ('Underground Cave Complex', 'MILF'): [285, 381, 254],\n",
      " ('Underground Cave Complex', 'SDBA'): [359],\n",
      " ('Underground Cave Complex', 'SGE'): [90],\n",
      " ('Underground Cave Complex', 'SLC'): [13],\n",
      " ('Underground Cave Complex', 'SS'): [121],\n",
      " ('Underground Cave Complex', 'VV'): [173],\n",
      " ('West Donut Desert', 'AA'): [174],\n",
      " ('West Donut Desert', 'ABQ'): [177, 294, 198],\n",
      " ('West Donut Desert', 'BPT'): [354],\n",
      " ('West Donut Desert', 'MILF'): [177, 691],\n",
      " ('West Donut Desert', 'SAC'): [285],\n",
      " ('West Donut Desert', 'SDBA'): [309],\n",
      " ('West Donut Desert', 'VV'): [0],\n",
      " ('West Donut Dessert', 'AA'): [416],\n",
      " ('West Donut Dessert', 'BB'): [54, 126, 120],\n",
      " ('West Donut Dessert', 'BPT'): [249],\n",
      " ('West Donut Dessert', 'DET'): [256, 253],\n",
      " ('West Donut Dessert', 'MILF'): [266],\n",
      " ('West Donut Dessert', 'OSHA'): [50],\n",
      " ('West Donut Dessert', 'SDBA'): [320],\n",
      " ('West Donut Dessert', 'SGE'): [290],\n",
      " ('West Donut Dessert', 'SS'): [273],\n",
      " ('West Donut Dessert', 'TB'): [74],\n",
      " ('West Donut Dessert', 'VV'): [539, 480, 287],\n",
      " ('West Hellmouth', 'BB'): [96],\n",
      " ('West Hellmouth', 'DECO'): [293],\n",
      " ('West Hellmouth', 'FFF'): [179],\n",
      " ('West Hellmouth', 'MILF'): [114],\n",
      " ('West Hellmouth', 'SAC'): [36],\n",
      " ('West Hellmouth', 'SDBA'): [176, 113],\n",
      " ('West Hellmouth', 'SS'): [214],\n",
      " ('West Hellmouth', 'TB'): [32, 86, 50],\n",
      " ('West Hellmouth', 'VV'): [60]}\n"
     ]
    }
   ],
   "source": [
    "season0 = 0\n",
    "sdat = fetch_season_data('klein', season0)\n",
    "pdat = fetch_postseason_data('klein', season0)\n",
    "totals = compile_totals_diffs_by_map(sdat, pdat)\n",
    "pprint(totals)"
   ]
  },
  {
   "cell_type": "markdown",
   "id": "5daedc71",
   "metadata": {},
   "source": [
    "### Try it out on multiple seasons\n",
    "\n",
    "If we don't pass in a totals/diffs counter dictionary, then the method will automatically create an empty dictionary to start with, and manage that for us.\n",
    "\n",
    "But we can also pass in our own totals/diffs counter dictionary, one that is accumulating totals from across multiple seasons."
   ]
  },
  {
   "cell_type": "code",
   "execution_count": 47,
   "id": "d67e5715",
   "metadata": {
    "scrolled": true
   },
   "outputs": [
    {
     "name": "stdout",
     "output_type": "stream",
     "text": [
      "[203, 263, 45, 280, 139, 188, 389, 99, 188, 330, 21, 249, 159, 78, 104, 145, 315]\n"
     ]
    }
   ],
   "source": [
    "totals = {}\n",
    "for season0 in range(0, 23):\n",
    "    sdat = fetch_season_data('klein', season0)\n",
    "    pdat = fetch_postseason_data('klein', season0)\n",
    "    compile_totals_diffs_by_map(sdat, pdat, totals)\n",
    "print(totals[('West Hellmouth', 'SLC')])"
   ]
  },
  {
   "cell_type": "code",
   "execution_count": null,
   "id": "95104053",
   "metadata": {},
   "outputs": [],
   "source": []
  },
  {
   "cell_type": "markdown",
   "id": "d8a6d0d1-ef01-473c-bb65-3b3915e96f5b",
   "metadata": {},
   "source": [
    "## Quantile Function\n",
    "\n",
    "We can use the statsmodels package to construct an empirical CDF function that can be evaluated at specific x locations (number of points), and will return the cumulative probability of that number of points (i.e., probability that the point total will be less than or equal to that value)."
   ]
  },
  {
   "cell_type": "code",
   "execution_count": 51,
   "id": "e109dcd6",
   "metadata": {},
   "outputs": [
    {
     "name": "stdout",
     "output_type": "stream",
     "text": [
      "50th quantile for points, for map Because Math for team AA: 262\n",
      "50th quantile for points, for map Because Math for team BB: 306\n",
      "50th quantile for points, for map Carcinization for team AA: 130\n",
      "50th quantile for points, for map Carcinization for team BB: 170\n",
      "50th quantile for points, for map Engine Room for team SS: 297\n",
      "50th quantile for points, for map Engine Room for team SFBS: 334\n"
     ]
    }
   ],
   "source": [
    "all_keys = totals.keys()\n",
    "all_maps = sorted(list(set([t[0] for t in all_keys])))\n",
    "all_team_abbrs = sorted(list(set([t[1] for t in all_keys])))\n",
    "\n",
    "keys = [\n",
    "    ('Because Math', 'AA'),\n",
    "    ('Because Math', 'BB'),\n",
    "    ('Carcinization', 'AA'),\n",
    "    ('Carcinization', 'BB'),\n",
    "    ('Engine Room', 'SS'),\n",
    "    ('Engine Room', 'SFBS'),\n",
    "]\n",
    "\n",
    "for k in keys:\n",
    "    q = np.quantile(totals[k], q=0.50)\n",
    "    print(f\"50th quantile for points, for map {k[0]} for team {k[1]}: {q:.0f}\")"
   ]
  },
  {
   "cell_type": "code",
   "execution_count": null,
   "id": "b24148d5-d099-4fdf-a02b-4c105c13a9cb",
   "metadata": {},
   "outputs": [],
   "source": []
  },
  {
   "cell_type": "code",
   "execution_count": null,
   "id": "951c1f99-2a87-45d5-8144-6dc9eac452c7",
   "metadata": {},
   "outputs": [],
   "source": []
  }
 ],
 "metadata": {
  "kernelspec": {
   "display_name": "Python 3 (ipykernel)",
   "language": "python",
   "name": "python3"
  },
  "language_info": {
   "codemirror_mode": {
    "name": "ipython",
    "version": 3
   },
   "file_extension": ".py",
   "mimetype": "text/x-python",
   "name": "python",
   "nbconvert_exporter": "python",
   "pygments_lexer": "ipython3",
   "version": "3.9.17"
  }
 },
 "nbformat": 4,
 "nbformat_minor": 5
}
