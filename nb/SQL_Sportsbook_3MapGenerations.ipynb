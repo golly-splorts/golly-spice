{
 "cells": [
  {
   "cell_type": "markdown",
   "id": "2d5bb411-f19c-40c2-ad33-50aeaabfed9a",
   "metadata": {},
   "source": [
    "# Sports Book: Over/Under Number of Generations By Map\n",
    "\n",
    "(well, by cup, and by map...)\n",
    "\n",
    "This notebook uses the Game Outcomes Table (SQL) to compute the number of generations by map. The 50th quantile of the empirical CDF (the median of the number of generations) gives the over/under value.\n",
    "\n",
    "This data is used to create a new table (with a corresponding data class given below) that stores expected number of generations by map and by cup."
   ]
  },
  {
   "cell_type": "code",
   "execution_count": 7,
   "id": "7f15b8f9-61d0-4376-9e52-9386f2944122",
   "metadata": {},
   "outputs": [],
   "source": [
    "import os, sys, subprocess, json, time\n",
    "import statistics\n",
    "from pprint import pprint"
   ]
  },
  {
   "cell_type": "code",
   "execution_count": 8,
   "id": "8d2c7344-de00-486a-8a1f-9d9d35b08b58",
   "metadata": {},
   "outputs": [],
   "source": [
    "from sqlalchemy import Column, Integer, String, Boolean, Table\n",
    "from sqlalchemy.orm import relationship, backref\n",
    "from sqlalchemy.orm import DeclarativeBase\n",
    "from sqlalchemy import func, select, column"
   ]
  },
  {
   "cell_type": "code",
   "execution_count": 9,
   "id": "9a7a0c7b-8964-4acb-a2b7-78312affe9b0",
   "metadata": {},
   "outputs": [],
   "source": [
    "# SQL copypasta\n",
    "\n",
    "class Base(DeclarativeBase):\n",
    "    pass\n",
    "    \n",
    "class GameResult(Base):\n",
    "    __tablename__ = \"sportsbook_game_result\"\n",
    "    gameid = Column(\"gameid\", String, primary_key=True)\n",
    "    cup = Column(\"cup\", String)\n",
    "    season = Column(\"season\", Integer)\n",
    "    day = Column(\"day\", Integer)\n",
    "    mapName = Column(\"mapName\", String)\n",
    "    winnerAbbr = Column(\"winnerAbbr\", String)\n",
    "    winnerPoints = Column(\"winnerPoints\", Integer)\n",
    "    loserAbbr = Column(\"loserAbbr\", String)\n",
    "    loserPoints = Column(\"loserPoints\", Integer)\n",
    "    isPostseason = Column(\"isPostseason\", Boolean)\n",
    "    series = Column(\"series\", String)\n",
    "    generations = Column(\"generations\", Integer)"
   ]
  },
  {
   "cell_type": "code",
   "execution_count": 10,
   "id": "265336f4-3554-4b90-9e80-a77fd9db340a",
   "metadata": {},
   "outputs": [],
   "source": [
    "from sqlalchemy import create_engine\n",
    "from sqlalchemy.orm import sessionmaker\n",
    "\n",
    "fpath = os.path.join(os.environ['HOME'], 'tmp', 'sqlite', 'mydb.db')\n",
    "engine = create_engine(f\"sqlite:///{fpath}\")\n",
    "Session = sessionmaker(engine)\n",
    "session = Session()"
   ]
  },
  {
   "cell_type": "code",
   "execution_count": 11,
   "id": "03e7ec20-372b-48fb-b817-b088077c81ae",
   "metadata": {},
   "outputs": [],
   "source": [
    "class MapGenerations(Base):\n",
    "    __tablename__ = \"sportsbook_stats_generations\"\n",
    "    id = Column(\"id\", Integer, primary_key=True)\n",
    "    cup = Column(\"cup\", String)\n",
    "    mapName = Column(\"mapName\", String)\n",
    "    # This is the median number of generations scored on this map\n",
    "    generations = Column(\"generations\", Integer)"
   ]
  },
  {
   "cell_type": "code",
   "execution_count": 12,
   "id": "44caed03-7087-4600-8bee-70007fda34cf",
   "metadata": {},
   "outputs": [
    {
     "data": {
      "text/plain": [
       "0"
      ]
     },
     "execution_count": 12,
     "metadata": {},
     "output_type": "execute_result"
    }
   ],
   "source": [
    "# Drop all prior results and re-calculate\n",
    "session.query(MapGenerations).delete()"
   ]
  },
  {
   "cell_type": "code",
   "execution_count": 13,
   "id": "a73d306b-4dff-4de8-bab5-46d1daa2f800",
   "metadata": {},
   "outputs": [
    {
     "name": "stdout",
     "output_type": "stream",
     "text": [
      "Confirmed that table sportsbook_stats_generations is empty\n"
     ]
    }
   ],
   "source": [
    "if session.query(MapGenerations).count() == 0:\n",
    "    print(f\"Confirmed that table {MapGenerations.__tablename__} is empty\")"
   ]
  },
  {
   "cell_type": "code",
   "execution_count": 14,
   "id": "73656cab-80ba-4520-9664-86806ea55be8",
   "metadata": {},
   "outputs": [],
   "source": [
    "def add_map_generations(this_cup, this_mapName):\n",
    "    query = select(GameResult.generations).where(GameResult.cup==this_cup).where(GameResult.mapName==this_mapName)\n",
    "    res = session.execute(query)\n",
    "    values = [j[0] for j in res]\n",
    "    med = int(statistics.median(values))\n",
    "\n",
    "    # Stash median value in the Map Generations Table\n",
    "    # #print(f\"Inserting median value: {this_cup} - {this_mapName} - {med}\")\n",
    "    g = MapGenerations(\n",
    "        cup = this_cup,\n",
    "        mapName = this_mapName,\n",
    "        generations = med\n",
    "    )\n",
    "    session.add(g)"
   ]
  },
  {
   "cell_type": "code",
   "execution_count": 15,
   "id": "601b9103-eb46-4542-a95c-f5fa152bc20e",
   "metadata": {},
   "outputs": [],
   "source": [
    "# Get unique cup-mapName combinations, and iterate over each one\n",
    "stmt = select(GameResult.cup, GameResult.mapName).distinct().order_by(GameResult.cup, GameResult.mapName)\n",
    "for irow, row in enumerate(session.execute(stmt)):\n",
    "    this_cup = row[0]\n",
    "    this_mapName = row[1]\n",
    "    # Pass to the function that determines median number of generations for this cup-map combo, and inserts it\n",
    "    add_map_generations(this_cup, this_mapName)"
   ]
  },
  {
   "cell_type": "code",
   "execution_count": 16,
   "id": "331b1982-252b-4bcc-a940-154e3e7a9c7f",
   "metadata": {},
   "outputs": [
    {
     "name": "stdout",
     "output_type": "stream",
     "text": [
      "Confirmed that table sportsbook_stats_generations is no longer empty\n"
     ]
    }
   ],
   "source": [
    "if session.query(MapGenerations).count() > 0:\n",
    "    print(f\"Confirmed that table {MapGenerations.__tablename__} is no longer empty\")"
   ]
  },
  {
   "cell_type": "code",
   "execution_count": null,
   "id": "4d6a40d1-3d41-442f-b8c5-ec69044cdbec",
   "metadata": {},
   "outputs": [],
   "source": []
  }
 ],
 "metadata": {
  "kernelspec": {
   "display_name": "Python 3 (ipykernel)",
   "language": "python",
   "name": "python3"
  },
  "language_info": {
   "codemirror_mode": {
    "name": "ipython",
    "version": 3
   },
   "file_extension": ".py",
   "mimetype": "text/x-python",
   "name": "python",
   "nbconvert_exporter": "python",
   "pygments_lexer": "ipython3",
   "version": "3.9.17"
  }
 },
 "nbformat": 4,
 "nbformat_minor": 5
}
