{
 "cells": [
  {
   "cell_type": "markdown",
   "id": "d0db6810",
   "metadata": {},
   "source": [
    "# Ranking Seasons and Postseasons\n",
    "\n",
    "Concept:\n",
    "\n",
    "* collect summaries of every team's seasons and postseasons\n",
    "* assemble rankings\n",
    "* for a given team, print out the season-by-season breakdown: ranking so far, ranking all time, ranking for that team"
   ]
  },
  {
   "cell_type": "code",
   "execution_count": 1,
   "id": "67cb68d3",
   "metadata": {},
   "outputs": [],
   "source": [
    "import os, sys, subprocess, json, time\n",
    "from pprint import pprint"
   ]
  },
  {
   "cell_type": "code",
   "execution_count": 2,
   "id": "8acf334d",
   "metadata": {},
   "outputs": [],
   "source": [
    "import matplotlib.pyplot as plt\n",
    "import seaborn as sns\n",
    "\n",
    "xkcd_colors = sns.xkcd_rgb\n",
    "GOLLY_GRAY = \"#272B30\""
   ]
  },
  {
   "cell_type": "code",
   "execution_count": 3,
   "id": "8420aeac",
   "metadata": {},
   "outputs": [],
   "source": [
    "def fetch_season_data(which_season0, cup):\n",
    "    cup = cup.lower()\n",
    "    seas_file = os.path.join('..', 'data', f'gollyx-{cup}-data', f'season{which_season0}', 'season.json')\n",
    "    if not os.path.exists(seas_file):\n",
    "        raise Exception(f\"Error: season {which_season0} not valid: {seas_file} does not exist\")\n",
    "    with open(seas_file, 'r') as f:\n",
    "        season0_seas = json.load(f)\n",
    "    return season0_seas\n",
    "\n",
    "def fetch_postseason_data(which_season0, cup):\n",
    "    cup = cup.lower()\n",
    "    post_file = os.path.join('..', 'data', f'gollyx-{cup}-data', f'season{which_season0}', 'postseason.json')\n",
    "    if not os.path.exists(post_file):\n",
    "        raise Exception(f\"Error: season {which_season0} not valid: {post_file} does not exist\")\n",
    "    with open(post_file, 'r') as f:\n",
    "        season0_post = json.load(f)\n",
    "    return season0_post\n",
    "\n",
    "def fetch_teams_data(which_season0, cup):\n",
    "    cup = cup.lower()\n",
    "    teams_file = os.path.join('..', 'data', f'gollyx-{cup}-data', f'season{which_season0}', 'teams.json')\n",
    "    if not os.path.exists(teams_file):\n",
    "        raise Exception(f\"Error: season {which_season0} not valid: {teams_file} does not exist\")\n",
    "    with open(teams_file, 'r') as f:\n",
    "        season0_teams = json.load(f)\n",
    "    return season0_teams"
   ]
  },
  {
   "cell_type": "code",
   "execution_count": 4,
   "id": "43a1ac7f",
   "metadata": {},
   "outputs": [],
   "source": [
    "def compile_seasons_list(cup):\n",
    "    \"\"\"\n",
    "    Compile a list of tuples of the form:\n",
    "    [\n",
    "        (season0, team_abbr, wins, losses, points, points_against)\n",
    "    ]\n",
    "    \"\"\"\n",
    "    cup = cup.lower()\n",
    "    seasons_list = []\n",
    "    for season0 in range(24):\n",
    "        # Start with W-L (iterate over games on the last day)\n",
    "        season_wl = {}\n",
    "        season_data = fetch_season_data(season0, cup)\n",
    "        last_day = season_data[-1]\n",
    "        for game in last_day:\n",
    "            team1abbr = game['team1Abbr']\n",
    "            team2abbr = game['team2Abbr']\n",
    "            team1wl = game['team1WinLoss']\n",
    "            team2wl = game['team2WinLoss']\n",
    "            if game['team1Score'] > game['team2Score']:\n",
    "                team1wl[0] += 1\n",
    "                team2wl[1] += 1\n",
    "            elif game['team1Score'] < game['team2Score']:\n",
    "                team2wl[0] += 1\n",
    "                team1wl[1] += 1\n",
    "            season_wl[team1abbr] = team1wl\n",
    "            season_wl[team2abbr] = team2wl\n",
    "        \n",
    "        # Now do points (iterate over teams, then games)\n",
    "        season_points = {}\n",
    "        teams_data = fetch_teams_data(season0, cup)\n",
    "        for team_data in teams_data:\n",
    "            team_abbr = team_data['teamAbbr']\n",
    "            season_points[team_abbr] = [0, 0]\n",
    "            for day in season_data:\n",
    "                for game in day:\n",
    "                    if game['team1Abbr'] == team_abbr:\n",
    "                        season_points[team_abbr][0] += game['team1Score']\n",
    "                        season_points[team_abbr][1] += game['team2Score']\n",
    "                        break\n",
    "                    elif game['team2Abbr'] == team_abbr:\n",
    "                        season_points[team_abbr][0] += game['team2Score']\n",
    "                        season_points[team_abbr][1] += game['team1Score']\n",
    "                        break\n",
    "        \n",
    "        a = sorted(list(season_wl.keys()))\n",
    "        b = sorted(list(season_points.keys()))\n",
    "        if a != b:\n",
    "            print(a)\n",
    "            print(b)\n",
    "        \n",
    "        for team_data in teams_data:\n",
    "            team_abbr = team_data['teamAbbr']\n",
    "            (wins, losses) = (season_wl[team_abbr][0], season_wl[team_abbr][1])\n",
    "            (points, points_against) = (season_points[team_abbr][0], season_points[team_abbr][1])\n",
    "            tup = (season0, team_abbr, wins, losses, points, points_against)\n",
    "            seasons_list.append(tup)\n",
    "        \n",
    "    return seasons_list"
   ]
  },
  {
   "cell_type": "code",
   "execution_count": 5,
   "id": "3a8bf128",
   "metadata": {},
   "outputs": [],
   "source": [
    "def compile_postseasons_list(cup):\n",
    "    \"\"\"\n",
    "    Compile a list of tuples of the form:\n",
    "    [\n",
    "        (season0, team_abbr, post_wins, post_losses, post_points, post_points_against)\n",
    "    ]\n",
    "    \"\"\"\n",
    "    cup = cup.lower()\n",
    "    postseasons_list = []\n",
    "    for season0 in range(24):\n",
    "        postseason_wl = {}\n",
    "        postseason_points = {}\n",
    "        \n",
    "        # Use a naive approach, go thru each game one at a time\n",
    "        postseason_data = fetch_postseason_data(season0, cup)\n",
    "        for series_lab in postseason_data:\n",
    "            miniseason = postseason_data[series_lab]\n",
    "            for day in miniseason:\n",
    "                for game in day:\n",
    "                    team1abbr = game['team1Abbr']\n",
    "                    team2abbr = game['team2Abbr']\n",
    "                    team1score = game['team1Score']\n",
    "                    team2score = game['team2Score']\n",
    "                    \n",
    "                    for abbr in [team1abbr, team2abbr]:\n",
    "                        if abbr not in postseason_wl:\n",
    "                            postseason_wl[abbr] = [0, 0]\n",
    "                            postseason_points[abbr] = [0, 0]\n",
    "                    \n",
    "                    if game['team1Score'] > game['team2Score']:\n",
    "                        postseason_wl[team1abbr][0] += 1\n",
    "                        postseason_wl[team2abbr][1] += 1\n",
    "                    elif game['team1Score'] < game['team2Score']:\n",
    "                        postseason_wl[team1abbr][1] += 1\n",
    "                        postseason_wl[team2abbr][0] += 1\n",
    "                        \n",
    "                    postseason_points[team1abbr][0] += team1score\n",
    "                    postseason_points[team1abbr][1] += team2score\n",
    "\n",
    "                    postseason_points[team2abbr][0] += team2score\n",
    "                    postseason_points[team2abbr][1] += team1score\n",
    "                    \n",
    "        for team_abbr in postseason_wl:\n",
    "            (wins, losses) = (postseason_wl[team_abbr][0], postseason_wl[team_abbr][1])\n",
    "            (points, points_against) = (postseason_points[team_abbr][0], postseason_points[team_abbr][1])\n",
    "            tup = (season0, team_abbr, wins, losses, points, points_against)\n",
    "            postseasons_list.append(tup)\n",
    "        \n",
    "    return postseasons_list"
   ]
  },
  {
   "cell_type": "code",
   "execution_count": 6,
   "id": "c742b7c0",
   "metadata": {},
   "outputs": [],
   "source": [
    "def season_rank(season0, team_abbr, cup):\n",
    "    \"\"\"Return the ranking of team_abbr's season0 regular season performance, ranked all-time\"\"\"\n",
    "    sl = compile_seasons_list(cup)\n",
    "    sl.sort(key = lambda x: (x[2], 100000000-x[5], x[4]), reverse=True)\n",
    "    sl_slim = [(s[0], s[1]) for s in sl]\n",
    "    if (season0, team_abbr) not in sl_slim:\n",
    "        raise Exception(f\"Error: could not find team {team_abbr} season0={season0} in season\")\n",
    "    rank = sl_slim.index((season0, team_abbr))\n",
    "    outof = len(sl_slim)\n",
    "    return rank+1, outof\n",
    "\n",
    "def postseason_rank(season0, team_abbr, cup):\n",
    "    pl = compile_postseasons_list(cup)\n",
    "    pl.sort(key = lambda x: (x[2], 100000000-x[3], 100000000-x[5], x[4]), reverse=True)\n",
    "    pl_slim = [(s[0], s[1]) for s in pl]\n",
    "    if (season0, team_abbr) not in pl_slim:\n",
    "        raise Exception(f\"Error: could not find team {team_abbr} season0={season0} in postseason\")\n",
    "    rank = pl_slim.index((season0, team_abbr))\n",
    "    outof = len(pl_slim)\n",
    "    return rank+1, outof"
   ]
  },
  {
   "cell_type": "code",
   "execution_count": 7,
   "id": "f04d59de",
   "metadata": {},
   "outputs": [],
   "source": [
    "def season_rank_asof(season0, team_abbr, cup):\n",
    "    \"\"\"Return the ranking of team_abbr's season0 regular season performance, ranked as of that season\"\"\"\n",
    "    sl = compile_seasons_list(cup)\n",
    "    sl.sort(key = lambda x: (x[2], 100000000-x[5], x[4]), reverse=True)\n",
    "    sl_slim = [(s[0], s[1]) for s in sl]\n",
    "    if (season0, team_abbr) not in sl_slim:\n",
    "        raise Exception(f\"Error: could not find team {team_abbr} season0={season0} in season\")\n",
    "    sl_slim_filter = [s for s in sl_slim if s[0] <= season0]\n",
    "    rank = sl_slim_filter.index((season0, team_abbr))\n",
    "    outof = len(sl_slim_filter)\n",
    "    return rank+1, outof\n",
    "\n",
    "def postseason_rank_asof(season0, team_abbr, cup):\n",
    "    pl = compile_postseasons_list(cup)\n",
    "    pl.sort(key = lambda x: (x[2], 100000000-x[3], 100000000-x[5], x[4]), reverse=True)\n",
    "    pl_slim = [(s[0], s[1]) for s in pl]\n",
    "    if (season0, team_abbr) not in pl_slim:\n",
    "        raise Exception(f\"Error: could not find team {team_abbr} season0={season0} in postseason\")\n",
    "    pl_slim_filter = [s for s in pl_slim if s[0] <= season0]\n",
    "    rank = pl_slim_filter.index((season0, team_abbr))\n",
    "    outof = len(pl_slim_filter)\n",
    "    return rank+1, outof"
   ]
  },
  {
   "cell_type": "code",
   "execution_count": 8,
   "id": "4115af49",
   "metadata": {},
   "outputs": [],
   "source": [
    "def season_rank_own(season0, team_abbr, cup):\n",
    "    \"\"\"Return ranking of team_abbr's season0 regular season performance ranked among own all time seasons\"\"\"\n",
    "    sl = compile_seasons_list(cup)\n",
    "    sl.sort(key = lambda x: (x[2], 100000000-x[5], x[4]), reverse=True)\n",
    "    sl_slim = [(s[0], s[1]) for s in sl]\n",
    "    if (season0, team_abbr) not in sl_slim:\n",
    "        raise Exception(f\"Error: could not find team {team_abbr} season0={season0} in season\")\n",
    "    sl_slim_filter = [s for s in sl_slim if s[1] == team_abbr]\n",
    "    rank = sl_slim_filter.index((season0, team_abbr))\n",
    "    outof = len(sl_slim_filter)\n",
    "    return rank+1, outof\n",
    "\n",
    "def postseason_rank_own(season0, team_abbr, cup):\n",
    "    \"\"\"Return ranking of team_abbr's season0 regular season performance ranked among own all time seasons\"\"\"\n",
    "    pl = compile_postseasons_list(cup)\n",
    "    pl.sort(key = lambda x: (x[2], 100000000-x[3], 100000000-x[5], x[4]), reverse=True)\n",
    "    pl_slim = [(s[0], s[1]) for s in pl]\n",
    "    if (season0, team_abbr) not in pl_slim:\n",
    "        raise Exception(f\"Error: could not find team {team_abbr} season0={season0} in season\")\n",
    "    pl_slim_filter = [p for p in pl_slim if p[1] == team_abbr]\n",
    "    rank = pl_slim_filter.index((season0, team_abbr))\n",
    "    outof = len(pl_slim_filter)\n",
    "    return rank+1, outof"
   ]
  },
  {
   "cell_type": "code",
   "execution_count": 9,
   "id": "ed26a350",
   "metadata": {},
   "outputs": [],
   "source": [
    "def create_season_quantiles_chart(team_abbr, team_color, cup):\n",
    "\n",
    "    # Compute the quantities to be plotted:\n",
    "    # x: season labels\n",
    "    # y: quantiles (normalized ranking value for each season)\n",
    "    season_labels = ['S'+str(season0+1) for season0 in range(0, 24)]\n",
    "\n",
    "    all_time_rankings = [season_rank(season0, team_abbr, cup) for season0 in range(0,24)]\n",
    "    pct = [s[0]/s[1] for s in all_time_rankings]\n",
    "    quantiles = [0.50-p for p in pct]\n",
    "\n",
    "    # Now create the bar chart for this team/Cup combination\n",
    "    fig, ax = plt.subplots(1, 1, figsize=(14,6))\n",
    "    sns.barplot(x=season_labels, y=quantiles, color=team_color, ax=ax)\n",
    "\n",
    "    ax.set_yticks([-0.45, -0.40, -0.25, 0, 0.25, 0.40, 0.45])\n",
    "    ax.set_yticklabels(['95th %', '90th %', '75th %', '50th %', '25th %', '10th %', '5th %'])\n",
    "    ax.set_ylabel('Percentile')\n",
    "\n",
    "    ax.set_title(f\"{cup} Cup: {team_abbr} Season-by-Season Performance\\nPercentile Rankings\")\n",
    "\n",
    "    ax.set_facecolor(GOLLY_GRAY)\n",
    "    plt.show()"
   ]
  },
  {
   "cell_type": "markdown",
   "id": "090ff9f2",
   "metadata": {},
   "source": [
    "# Hellmouth Cup"
   ]
  },
  {
   "cell_type": "code",
   "execution_count": 10,
   "id": "e2c4f43e",
   "metadata": {
    "scrolled": true
   },
   "outputs": [],
   "source": [
    "CUP = 'Hellmouth'"
   ]
  },
  {
   "cell_type": "markdown",
   "id": "6347f861",
   "metadata": {},
   "source": [
    "# SAC Season 4"
   ]
  },
  {
   "cell_type": "markdown",
   "id": "ddbf306e",
   "metadata": {},
   "source": [
    "## All-Time Comparisons"
   ]
  },
  {
   "cell_type": "markdown",
   "id": "65a14f73",
   "metadata": {},
   "source": [
    "How did the regular season performance of the Season 4 champion SAC team stack up all-time?"
   ]
  },
  {
   "cell_type": "code",
   "execution_count": 11,
   "id": "c54d8df9",
   "metadata": {},
   "outputs": [
    {
     "name": "stdout",
     "output_type": "stream",
     "text": [
      "Rank: 25 / 420\n"
     ]
    }
   ],
   "source": [
    "rank, outof = season_rank(3, 'SAC', CUP)\n",
    "print(f\"Rank: {rank} / {outof}\")"
   ]
  },
  {
   "cell_type": "markdown",
   "id": "f5e58732",
   "metadata": {},
   "source": [
    "Compare to their opponents, the Season 4 LBFB:"
   ]
  },
  {
   "cell_type": "code",
   "execution_count": 12,
   "id": "519f0607",
   "metadata": {},
   "outputs": [
    {
     "name": "stdout",
     "output_type": "stream",
     "text": [
      "Rank: 234 / 420\n"
     ]
    }
   ],
   "source": [
    "rank, outof = season_rank(3, 'LBFB', CUP)\n",
    "print(f\"Rank: {rank} / {outof}\")"
   ]
  },
  {
   "cell_type": "markdown",
   "id": "ae4ad255",
   "metadata": {},
   "source": [
    "How did the postseason performance of the Season 4 champion SAC team compare all-time?"
   ]
  },
  {
   "cell_type": "code",
   "execution_count": 13,
   "id": "a4af8af0",
   "metadata": {},
   "outputs": [
    {
     "name": "stdout",
     "output_type": "stream",
     "text": [
      "Rank: 22 / 192\n"
     ]
    }
   ],
   "source": [
    "rank, outof = postseason_rank(3, 'SAC', CUP)\n",
    "print(f\"Rank: {rank} / {outof}\")"
   ]
  },
  {
   "cell_type": "markdown",
   "id": "aa784ad9",
   "metadata": {},
   "source": [
    "And the Birds?"
   ]
  },
  {
   "cell_type": "code",
   "execution_count": 14,
   "id": "ac57136a",
   "metadata": {},
   "outputs": [
    {
     "name": "stdout",
     "output_type": "stream",
     "text": [
      "Rank: 32 / 192\n"
     ]
    }
   ],
   "source": [
    "rank, outof = postseason_rank(3, 'LBFB', CUP)\n",
    "print(f\"Rank: {rank} / {outof}\")"
   ]
  },
  {
   "cell_type": "markdown",
   "id": "04b1b4c7",
   "metadata": {},
   "source": [
    "## As-Of Comparisons\n",
    "\n",
    "Now let's see how they compared at the time. We'll write new versions of the above function, which will filter pl_slim and sl_slim before determining the rank."
   ]
  },
  {
   "cell_type": "markdown",
   "id": "703136ea",
   "metadata": {},
   "source": [
    "How did the regular season performance of the Season 4 championship SAC team stack up against all seasons up to that point?"
   ]
  },
  {
   "cell_type": "code",
   "execution_count": 15,
   "id": "a5be9c93",
   "metadata": {},
   "outputs": [
    {
     "name": "stdout",
     "output_type": "stream",
     "text": [
      "Rank: 3 / 64\n"
     ]
    }
   ],
   "source": [
    "rank, outof = season_rank_asof(3, 'SAC', CUP)\n",
    "print(f\"Rank: {rank} / {outof}\")"
   ]
  },
  {
   "cell_type": "markdown",
   "id": "e5222a6f",
   "metadata": {},
   "source": [
    "Compare to their opponents, the Season 4 LBFB:"
   ]
  },
  {
   "cell_type": "code",
   "execution_count": 16,
   "id": "41e37096",
   "metadata": {},
   "outputs": [
    {
     "name": "stdout",
     "output_type": "stream",
     "text": [
      "Rank: 39 / 64\n"
     ]
    }
   ],
   "source": [
    "rank, outof = season_rank_asof(3, 'LBFB', CUP)\n",
    "print(f\"Rank: {rank} / {outof}\")"
   ]
  },
  {
   "cell_type": "markdown",
   "id": "30159729",
   "metadata": {},
   "source": [
    "Likewise, how did the postseason performance of the Season 4 championship SAC team compare to all prior postseasons to that point?"
   ]
  },
  {
   "cell_type": "code",
   "execution_count": 17,
   "id": "56029e53",
   "metadata": {},
   "outputs": [
    {
     "name": "stdout",
     "output_type": "stream",
     "text": [
      "Rank: 4 / 32\n"
     ]
    }
   ],
   "source": [
    "rank, outof = postseason_rank_asof(3, 'SAC', CUP)\n",
    "print(f\"Rank: {rank} / {outof}\")"
   ]
  },
  {
   "cell_type": "markdown",
   "id": "391bf60b",
   "metadata": {},
   "source": [
    "Compare to their opponents, the Birds:"
   ]
  },
  {
   "cell_type": "code",
   "execution_count": 18,
   "id": "bc01eb18",
   "metadata": {},
   "outputs": [
    {
     "name": "stdout",
     "output_type": "stream",
     "text": [
      "Rank: 6 / 32\n"
     ]
    }
   ],
   "source": [
    "rank, outof = postseason_rank_asof(3, 'LBFB', CUP)\n",
    "print(f\"Rank: {rank} / {outof}\")"
   ]
  },
  {
   "cell_type": "markdown",
   "id": "de8d8fe1",
   "metadata": {},
   "source": [
    "## Own History Comparisons"
   ]
  },
  {
   "cell_type": "markdown",
   "id": "b8675e1f",
   "metadata": {},
   "source": [
    "How did the Season 4 SAC team compare against SAC all other seasons?"
   ]
  },
  {
   "cell_type": "code",
   "execution_count": 19,
   "id": "126e05b0",
   "metadata": {},
   "outputs": [
    {
     "name": "stdout",
     "output_type": "stream",
     "text": [
      "Rank: 1 / 24\n"
     ]
    }
   ],
   "source": [
    "rank, outof = season_rank_own(3, 'SAC', CUP)\n",
    "print(f\"Rank: {rank} / {outof}\")"
   ]
  },
  {
   "cell_type": "markdown",
   "id": "3609b031",
   "metadata": {},
   "source": [
    "G. O. A. T."
   ]
  },
  {
   "cell_type": "code",
   "execution_count": 20,
   "id": "5e8c2c92",
   "metadata": {},
   "outputs": [
    {
     "name": "stdout",
     "output_type": "stream",
     "text": [
      "Rank: 2 / 10\n"
     ]
    }
   ],
   "source": [
    "rank, outof = postseason_rank_own(3, 'SAC', CUP)\n",
    "print(f\"Rank: {rank} / {outof}\")"
   ]
  },
  {
   "cell_type": "markdown",
   "id": "db2b7619",
   "metadata": {},
   "source": [
    "## Chronological Progression\n",
    "\n",
    "Let's look at a season-by-season chronology of where SAC was at, relative to history, and all-time."
   ]
  },
  {
   "cell_type": "code",
   "execution_count": 21,
   "id": "7db304a6",
   "metadata": {},
   "outputs": [],
   "source": [
    "abbr = 'SAC'"
   ]
  },
  {
   "cell_type": "code",
   "execution_count": 22,
   "id": "1e194628",
   "metadata": {
    "scrolled": false
   },
   "outputs": [
    {
     "name": "stdout",
     "output_type": "stream",
     "text": [
      "SAC Regular Season: All-Time Rankings:\n",
      "    SAC Season 1 :       175 / 420\n",
      "    SAC Season 2 :       279 / 420\n",
      "    SAC Season 3 :       236 / 420\n",
      "    SAC Season 4 :        25 / 420\n",
      "    SAC Season 5 :       138 / 420\n",
      "    SAC Season 6 :       377 / 420\n",
      "    SAC Season 7 :        51 / 420\n",
      "    SAC Season 8 :       172 / 420\n",
      "    SAC Season 9 :       306 / 420\n",
      "    SAC Season 10:       416 / 420\n",
      "    SAC Season 11:       244 / 420\n",
      "    SAC Season 12:        32 / 420\n",
      "    SAC Season 13:       370 / 420\n",
      "    SAC Season 14:        81 / 420\n",
      "    SAC Season 15:       270 / 420\n",
      "    SAC Season 16:       201 / 420\n",
      "    SAC Season 17:       159 / 420\n",
      "    SAC Season 18:       229 / 420\n",
      "    SAC Season 19:        67 / 420\n",
      "    SAC Season 20:       378 / 420\n",
      "    SAC Season 21:        43 / 420\n",
      "    SAC Season 22:       404 / 420\n",
      "    SAC Season 23:       389 / 420\n",
      "    SAC Season 24:       284 / 420\n"
     ]
    }
   ],
   "source": [
    "print(f\"{abbr} Regular Season: All-Time Rankings:\")\n",
    "for season0 in range(0, 24):\n",
    "    rank, oo = season_rank(season0, abbr, CUP)    \n",
    "    print(f\"    {abbr} Season {season0+1:<2}:       {rank:3} / {oo:3}\")"
   ]
  },
  {
   "cell_type": "code",
   "execution_count": 23,
   "id": "7b2bd7eb",
   "metadata": {},
   "outputs": [
    {
     "name": "stdout",
     "output_type": "stream",
     "text": [
      "SAC Regular Season: As-Of-Then Rankings:\n",
      "    SAC Season 1 :         7 /  16\n",
      "    SAC Season 2 :        26 /  32\n",
      "    SAC Season 3 :        30 /  48\n",
      "    SAC Season 4 :         3 /  64\n",
      "    SAC Season 5 :        29 /  80\n",
      "    SAC Season 6 :        90 /  96\n",
      "    SAC Season 7 :        12 / 112\n",
      "    SAC Season 8 :        59 / 128\n",
      "    SAC Season 9 :       105 / 144\n",
      "    SAC Season 10:       158 / 160\n",
      "    SAC Season 11:       108 / 176\n",
      "    SAC Season 12:        15 / 192\n",
      "    SAC Season 13:       183 / 208\n",
      "    SAC Season 14:        44 / 224\n",
      "    SAC Season 15:       162 / 240\n",
      "    SAC Season 16:       130 / 260\n",
      "    SAC Season 17:       107 / 280\n",
      "    SAC Season 18:       168 / 300\n",
      "    SAC Season 19:        52 / 320\n",
      "    SAC Season 20:       308 / 340\n",
      "    SAC Season 21:        39 / 360\n",
      "    SAC Season 22:       365 / 380\n",
      "    SAC Season 23:       371 / 400\n",
      "    SAC Season 24:       284 / 420\n"
     ]
    }
   ],
   "source": [
    "print(f\"{abbr} Regular Season: As-Of-Then Rankings:\")\n",
    "for season0 in range(0, 24):\n",
    "    rank, oo = season_rank_asof(season0, abbr, CUP)\n",
    "    print(f\"    {abbr} Season {season0+1:<2}:       {rank:3} / {oo:3}\")"
   ]
  },
  {
   "cell_type": "code",
   "execution_count": 24,
   "id": "09aacd39",
   "metadata": {},
   "outputs": [
    {
     "name": "stdout",
     "output_type": "stream",
     "text": [
      "SAC Regular Season: Own Rankings:\n",
      "    SAC Season 1 :        10 /  24\n",
      "    SAC Season 2 :        16 /  24\n",
      "    SAC Season 3 :        13 /  24\n",
      "    SAC Season 4 :         1 /  24\n",
      "    SAC Season 5 :         7 /  24\n",
      "    SAC Season 6 :        20 /  24\n",
      "    SAC Season 7 :         4 /  24\n",
      "    SAC Season 8 :         9 /  24\n",
      "    SAC Season 9 :        18 /  24\n",
      "    SAC Season 10:        24 /  24\n",
      "    SAC Season 11:        14 /  24\n",
      "    SAC Season 12:         2 /  24\n",
      "    SAC Season 13:        19 /  24\n",
      "    SAC Season 14:         6 /  24\n",
      "    SAC Season 15:        15 /  24\n",
      "    SAC Season 16:        11 /  24\n",
      "    SAC Season 17:         8 /  24\n",
      "    SAC Season 18:        12 /  24\n",
      "    SAC Season 19:         5 /  24\n",
      "    SAC Season 20:        21 /  24\n",
      "    SAC Season 21:         3 /  24\n",
      "    SAC Season 22:        23 /  24\n",
      "    SAC Season 23:        22 /  24\n",
      "    SAC Season 24:        17 /  24\n"
     ]
    }
   ],
   "source": [
    "print(f\"{abbr} Regular Season: Own Rankings:\")\n",
    "for season0 in range(0, 24):\n",
    "    rank, oo = season_rank_own(season0, abbr, CUP)\n",
    "    print(f\"    {abbr} Season {season0+1:<2}:       {rank:3} / {oo:3}\")"
   ]
  },
  {
   "cell_type": "markdown",
   "id": "195fc5e9",
   "metadata": {},
   "source": [
    "## Postseason"
   ]
  },
  {
   "cell_type": "code",
   "execution_count": 25,
   "id": "7ab52b68",
   "metadata": {},
   "outputs": [
    {
     "name": "stdout",
     "output_type": "stream",
     "text": [
      "SAC Postseason: All-Time Rankings:\n",
      "    SAC Season 1  Postseason:       104 / 192\n",
      "    SAC Season 4  Postseason:        22 / 192\n",
      "    SAC Season 5  Postseason:        92 / 192\n",
      "    SAC Season 7  Postseason:        98 / 192\n",
      "    SAC Season 12 Postseason:       139 / 192\n",
      "    SAC Season 14 Postseason:         6 / 192\n",
      "    SAC Season 16 Postseason:        62 / 192\n",
      "    SAC Season 17 Postseason:        89 / 192\n",
      "    SAC Season 19 Postseason:       175 / 192\n",
      "    SAC Season 21 Postseason:        37 / 192\n"
     ]
    }
   ],
   "source": [
    "print(f\"{abbr} Postseason: All-Time Rankings:\")\n",
    "for season0 in range(0, 24):\n",
    "    try:\n",
    "        rank, oo = postseason_rank(season0, abbr, CUP)\n",
    "        print(f\"    {abbr} Season {season0+1:<2} Postseason:       {rank:3} / {oo:3}\")\n",
    "    except:\n",
    "        pass"
   ]
  },
  {
   "cell_type": "code",
   "execution_count": 26,
   "id": "e54f42f1",
   "metadata": {},
   "outputs": [
    {
     "name": "stdout",
     "output_type": "stream",
     "text": [
      "SAC Postseason: As-Of-Then Rankings:\n",
      "    SAC Season 1  Postseason:         5 /   8\n",
      "    SAC Season 4  Postseason:         4 /  32\n",
      "    SAC Season 5  Postseason:        19 /  40\n",
      "    SAC Season 7  Postseason:        29 /  56\n",
      "    SAC Season 12 Postseason:        70 /  96\n",
      "    SAC Season 14 Postseason:         4 / 112\n",
      "    SAC Season 16 Postseason:        42 / 128\n",
      "    SAC Season 17 Postseason:        61 / 136\n",
      "    SAC Season 19 Postseason:       139 / 152\n",
      "    SAC Season 21 Postseason:        31 / 168\n"
     ]
    }
   ],
   "source": [
    "print(f\"{abbr} Postseason: As-Of-Then Rankings:\")\n",
    "for season0 in range(0, 24):\n",
    "    try:\n",
    "        rank, oo = postseason_rank_asof(season0, abbr, CUP)\n",
    "        print(f\"    {abbr} Season {season0+1:<2} Postseason:       {rank:3} / {oo:3}\")\n",
    "    except:\n",
    "        pass"
   ]
  },
  {
   "cell_type": "code",
   "execution_count": 27,
   "id": "cd42708a",
   "metadata": {},
   "outputs": [
    {
     "name": "stdout",
     "output_type": "stream",
     "text": [
      "SAC Regular Season: Own Rankings:\n",
      "    SAC Season 1  Postseason:         8 /  10\n",
      "    SAC Season 4  Postseason:         2 /  10\n",
      "    SAC Season 5  Postseason:         6 /  10\n",
      "    SAC Season 7  Postseason:         7 /  10\n",
      "    SAC Season 12 Postseason:         9 /  10\n",
      "    SAC Season 14 Postseason:         1 /  10\n",
      "    SAC Season 16 Postseason:         4 /  10\n",
      "    SAC Season 17 Postseason:         5 /  10\n",
      "    SAC Season 19 Postseason:        10 /  10\n",
      "    SAC Season 21 Postseason:         3 /  10\n"
     ]
    }
   ],
   "source": [
    "print(f\"{abbr} Regular Season: Own Rankings:\")\n",
    "for season0 in range(0, 24):\n",
    "    try:\n",
    "        rank, oo = postseason_rank_own(season0, abbr, CUP)\n",
    "        print(f\"    {abbr} Season {season0+1:<2} Postseason:       {rank:3} / {oo:3}\")\n",
    "    except:\n",
    "        pass"
   ]
  },
  {
   "cell_type": "markdown",
   "id": "43e635e9",
   "metadata": {},
   "source": [
    "# Bar Charts of Season Performances"
   ]
  },
  {
   "cell_type": "code",
   "execution_count": 28,
   "id": "c5a3ce16",
   "metadata": {},
   "outputs": [
    {
     "data": {
      "image/png": "[encoded data removed]",
      "text/plain": [
       "<Figure size 1008x432 with 1 Axes>"
      ]
     },
     "metadata": {
      "needs_background": "light"
     },
     "output_type": "display_data"
    }
   ],
   "source": [
    "create_season_quantiles_chart('SAC', '#ffb627', CUP)"
   ]
  },
  {
   "cell_type": "code",
   "execution_count": 29,
   "id": "29d924e0",
   "metadata": {},
   "outputs": [
    {
     "data": {
      "image/png": "[encoded data removed]",
      "text/plain": [
       "<Figure size 1008x432 with 1 Axes>"
      ]
     },
     "metadata": {
      "needs_background": "light"
     },
     "output_type": "display_data"
    }
   ],
   "source": [
    "create_season_quantiles_chart('BTX', '#3e92cc', CUP)"
   ]
  },
  {
   "cell_type": "code",
   "execution_count": 30,
   "id": "4847d608",
   "metadata": {},
   "outputs": [
    {
     "data": {
      "image/png": "[encoded data removed]",
      "text/plain": [
       "<Figure size 1008x432 with 1 Axes>"
      ]
     },
     "metadata": {
      "needs_background": "light"
     },
     "output_type": "display_data"
    }
   ],
   "source": [
    "create_season_quantiles_chart('DET', '#9963ab', CUP)"
   ]
  },
  {
   "cell_type": "code",
   "execution_count": 31,
   "id": "8e07886c",
   "metadata": {},
   "outputs": [
    {
     "data": {
      "image/png": "[encoded data removed]",
      "text/plain": [
       "<Figure size 1008x432 with 1 Axes>"
      ]
     },
     "metadata": {
      "needs_background": "light"
     },
     "output_type": "display_data"
    }
   ],
   "source": [
    "create_season_quantiles_chart('MILF', '#ff66cc', CUP)"
   ]
  },
  {
   "cell_type": "code",
   "execution_count": 32,
   "id": "ccfa96fc",
   "metadata": {},
   "outputs": [
    {
     "data": {
      "image/png": "[encoded data removed]",
      "text/plain": [
       "<Figure size 1008x432 with 1 Axes>"
      ]
     },
     "metadata": {
      "needs_background": "light"
     },
     "output_type": "display_data"
    }
   ],
   "source": [
    "create_season_quantiles_chart('SFBS', '#e7d7c1', CUP)"
   ]
  },
  {
   "cell_type": "code",
   "execution_count": null,
   "id": "93f0a75f",
   "metadata": {},
   "outputs": [],
   "source": []
  },
  {
   "cell_type": "code",
   "execution_count": null,
   "id": "7c0f47a6",
   "metadata": {},
   "outputs": [],
   "source": []
  },
  {
   "cell_type": "code",
   "execution_count": null,
   "id": "23374e1b",
   "metadata": {},
   "outputs": [],
   "source": []
  },
  {
   "cell_type": "code",
   "execution_count": null,
   "id": "6fc74de4",
   "metadata": {},
   "outputs": [],
   "source": []
  },
  {
   "cell_type": "code",
   "execution_count": null,
   "id": "f68c3e95",
   "metadata": {},
   "outputs": [],
   "source": []
  },
  {
   "cell_type": "code",
   "execution_count": null,
   "id": "3a8cfd66",
   "metadata": {},
   "outputs": [],
   "source": []
  },
  {
   "cell_type": "code",
   "execution_count": null,
   "id": "9bbb4ac6",
   "metadata": {},
   "outputs": [],
   "source": []
  },
  {
   "cell_type": "code",
   "execution_count": null,
   "id": "0c4171f9",
   "metadata": {},
   "outputs": [],
   "source": []
  }
 ],
 "metadata": {
  "kernelspec": {
   "display_name": "Python 3 (ipykernel)",
   "language": "python",
   "name": "python3"
  },
  "language_info": {
   "codemirror_mode": {
    "name": "ipython",
    "version": 3
   },
   "file_extension": ".py",
   "mimetype": "text/x-python",
   "name": "python",
   "nbconvert_exporter": "python",
   "pygments_lexer": "ipython3",
   "version": "3.9.14"
  }
 },
 "nbformat": 4,
 "nbformat_minor": 5
}
