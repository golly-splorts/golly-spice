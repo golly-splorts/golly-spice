{
 "cells": [
  {
   "cell_type": "markdown",
   "id": "2d5bb411-f19c-40c2-ad33-50aeaabfed9a",
   "metadata": {},
   "source": [
    "# Sports Book: Over/Under Number of Points\n",
    "\n",
    "## By Cup & By Map & By Team\n",
    "\n",
    "This notebook uses the Game Outcomes Table (SQL) to compute the number of points, by cup and by map and by team. It uses the empirical CDF to compute this.\n",
    "\n",
    "This data is used to create a new table (with a corresponding data class given below) that stores expected number of points by cup and by map and by team."
   ]
  },
  {
   "cell_type": "code",
   "execution_count": 1,
   "id": "7f15b8f9-61d0-4376-9e52-9386f2944122",
   "metadata": {},
   "outputs": [],
   "source": [
    "import os, sys, subprocess, json, time\n",
    "import statistics\n",
    "from pprint import pprint"
   ]
  },
  {
   "cell_type": "code",
   "execution_count": 2,
   "id": "8d2c7344-de00-486a-8a1f-9d9d35b08b58",
   "metadata": {},
   "outputs": [],
   "source": [
    "from sqlalchemy import Column, Integer, String, Boolean, Table\n",
    "from sqlalchemy.orm import relationship, backref\n",
    "from sqlalchemy.orm import DeclarativeBase\n",
    "from sqlalchemy import func, select, column"
   ]
  },
  {
   "cell_type": "code",
   "execution_count": 3,
   "id": "9a7a0c7b-8964-4acb-a2b7-78312affe9b0",
   "metadata": {},
   "outputs": [],
   "source": [
    "# SQL copypasta\n",
    "\n",
    "class Base(DeclarativeBase):\n",
    "    pass\n",
    "    \n",
    "class GameResult(Base):\n",
    "    __tablename__ = \"sportsbook_game_result\"\n",
    "    gameid = Column(\"gameid\", String, primary_key=True)\n",
    "    cup = Column(\"cup\", String)\n",
    "    season = Column(\"season\", Integer)\n",
    "    day = Column(\"day\", Integer)\n",
    "    mapName = Column(\"mapName\", String)\n",
    "    winnerAbbr = Column(\"winnerAbbr\", String)\n",
    "    winnerPoints = Column(\"winnerPoints\", Integer)\n",
    "    loserAbbr = Column(\"loserAbbr\", String)\n",
    "    loserPoints = Column(\"loserPoints\", Integer)\n",
    "    isPostseason = Column(\"isPostseason\", Boolean)\n",
    "    series = Column(\"series\", String)\n",
    "    generations = Column(\"generations\", Integer)"
   ]
  },
  {
   "cell_type": "code",
   "execution_count": 4,
   "id": "265336f4-3554-4b90-9e80-a77fd9db340a",
   "metadata": {},
   "outputs": [],
   "source": [
    "from sqlalchemy import create_engine\n",
    "from sqlalchemy.orm import sessionmaker\n",
    "\n",
    "fpath = os.path.join(os.environ['HOME'], 'tmp', 'sqlite', 'mydb.db')\n",
    "engine = create_engine(f\"sqlite:///{fpath}\")\n",
    "Session = sessionmaker(engine)\n",
    "session = Session()"
   ]
  },
  {
   "cell_type": "code",
   "execution_count": 5,
   "id": "03e7ec20-372b-48fb-b817-b088077c81ae",
   "metadata": {},
   "outputs": [],
   "source": [
    "class MapPoints(Base):\n",
    "    __tablename__ = \"sportsbook_stats_points\"\n",
    "    id = Column(\"id\", Integer, primary_key=True)\n",
    "    cup = Column(\"cup\", String)\n",
    "    mapName = Column(\"mapName\", String)\n",
    "    # If teamAbbr is empty, it means this is the median for all games on this map\n",
    "    teamAbbr = Column(\"teamAbbr\", String)\n",
    "    # This is the median number of points scored by this team on this map\n",
    "    teamPoints = Column(\"teamPoints\", Integer)"
   ]
  },
  {
   "cell_type": "code",
   "execution_count": 6,
   "id": "8c559b7d-7b66-46a1-96fd-c67c42e5354d",
   "metadata": {},
   "outputs": [],
   "source": [
    "import time\n",
    "time.sleep(2)"
   ]
  },
  {
   "cell_type": "code",
   "execution_count": 7,
   "id": "44caed03-7087-4600-8bee-70007fda34cf",
   "metadata": {},
   "outputs": [
    {
     "data": {
      "text/plain": [
       "0"
      ]
     },
     "execution_count": 7,
     "metadata": {},
     "output_type": "execute_result"
    }
   ],
   "source": [
    "# Drop all prior results and re-calculate\n",
    "session.query(MapPoints).delete()"
   ]
  },
  {
   "cell_type": "code",
   "execution_count": 8,
   "id": "a73d306b-4dff-4de8-bab5-46d1daa2f800",
   "metadata": {},
   "outputs": [
    {
     "name": "stdout",
     "output_type": "stream",
     "text": [
      "Confirmed that table sportsbook_stats_points is empty\n"
     ]
    }
   ],
   "source": [
    "if session.query(MapPoints).count() == 0:\n",
    "    print(f\"Confirmed that table {MapPoints.__tablename__} is empty\")"
   ]
  },
  {
   "cell_type": "code",
   "execution_count": 9,
   "id": "73656cab-80ba-4520-9664-86806ea55be8",
   "metadata": {},
   "outputs": [],
   "source": [
    "def add_map_points(this_cup, this_mapName, this_teamAbbr):\n",
    "    # need to add query to get unique team abbrs for this cup from game outcomes\n",
    "    # then, select WHERE where cup is cup, mapname is mapname, team is team\n",
    "    query1 = select(GameResult.winnerPoints)\\\n",
    "        .where(GameResult.cup==this_cup)\\\n",
    "        .where(GameResult.mapName==this_mapName)\\\n",
    "        .where(GameResult.winnerAbbr==this_teamAbbr)\n",
    "    \n",
    "    query2 = select(GameResult.loserPoints)\\\n",
    "        .where(GameResult.cup==this_cup)\\\n",
    "        .where(GameResult.mapName==this_mapName)\\\n",
    "        .where(GameResult.loserAbbr==this_teamAbbr)\n",
    "    \n",
    "    res1 = session.execute(query1)\n",
    "    res2 = session.execute(query2)\n",
    "    \n",
    "    values = [j[0] for j in res1] + [k[0] for k in res2]\n",
    "    \n",
    "    med = int(statistics.median(values))\n",
    "    \n",
    "    # Stash median value in the Map Generations Table\n",
    "    g = MapPoints(\n",
    "        cup = this_cup,\n",
    "        mapName = this_mapName,\n",
    "        teamAbbr = this_teamAbbr,\n",
    "        teamPoints = med\n",
    "    )\n",
    "    session.add(g)\n",
    "\n",
    "def add_aggregate_map_points(this_cup, this_mapName):\n",
    "    query1 = select(GameResult.winnerPoints)\\\n",
    "        .where(GameResult.cup==this_cup)\\\n",
    "        .where(GameResult.mapName==this_mapName)\n",
    "    \n",
    "    query2 = select(GameResult.loserPoints)\\\n",
    "        .where(GameResult.cup==this_cup)\\\n",
    "        .where(GameResult.mapName==this_mapName)\n",
    "    \n",
    "    res1 = session.execute(query1)\n",
    "    res2 = session.execute(query2)\n",
    "\n",
    "    values = [j[0] for j in res1] + [k[0] for k in res2]\n",
    "\n",
    "    med = int(statistics.median(values))\n",
    "    \n",
    "    g = MapPoints(\n",
    "        cup = this_cup,\n",
    "        mapName = this_mapName,\n",
    "        teamAbbr = \"\",\n",
    "        teamPoints = med\n",
    "    )\n",
    "    session.add(g)"
   ]
  },
  {
   "cell_type": "code",
   "execution_count": 10,
   "id": "823d981a-cbfd-43a0-96cc-996443ac8f68",
   "metadata": {},
   "outputs": [],
   "source": [
    "# Get all the combinations of cup-mapName-teamAbbr, then iterate over each one\n",
    "stmt1 = select(GameResult.cup, GameResult.mapName, GameResult.winnerAbbr).distinct()\\\n",
    "     .order_by(GameResult.cup, GameResult.mapName, GameResult.winnerAbbr)\n",
    "\n",
    "stmt2 = select(GameResult.cup, GameResult.mapName, GameResult.loserAbbr).distinct()\\\n",
    "     .order_by(GameResult.cup, GameResult.mapName, GameResult.loserAbbr)\n",
    "\n",
    "for stmt in [stmt1, stmt2]:\n",
    "    for irow, row in enumerate(session.execute(stmt)):\n",
    "        this_cup = row[0]\n",
    "        this_mapName = row[1]\n",
    "        this_teamAbbr = row[2]\n",
    "        # Pass to the function that determines median number of generations for this cup-map combo, and inserts it\n",
    "        add_map_points(this_cup, this_mapName, this_teamAbbr)"
   ]
  },
  {
   "cell_type": "code",
   "execution_count": 11,
   "id": "66e5fdb1-cf59-472a-a5b7-09716b5fae03",
   "metadata": {},
   "outputs": [],
   "source": [
    "# Finally, add the aggregate median\n",
    "stmt3 = select(GameResult.cup, GameResult.mapName).distinct()\\\n",
    "     .order_by(GameResult.cup, GameResult.mapName)\n",
    "\n",
    "for irow, row in enumerate(session.execute(stmt)):\n",
    "    this_cup = row[0]\n",
    "    this_mapName = row[1]\n",
    "    # Pass to the function that determines median number of generations for this cup-map combo, and inserts it\n",
    "    add_aggregate_map_points(this_cup, this_mapName)"
   ]
  },
  {
   "cell_type": "code",
   "execution_count": 12,
   "id": "331b1982-252b-4bcc-a940-154e3e7a9c7f",
   "metadata": {},
   "outputs": [
    {
     "name": "stdout",
     "output_type": "stream",
     "text": [
      "Confirmed that table sportsbook_stats_points is no longer empty\n"
     ]
    }
   ],
   "source": [
    "if session.query(MapPoints).count() > 0:\n",
    "    print(f\"Confirmed that table {MapPoints.__tablename__} is no longer empty\")"
   ]
  },
  {
   "cell_type": "code",
   "execution_count": null,
   "id": "4d6a40d1-3d41-442f-b8c5-ec69044cdbec",
   "metadata": {},
   "outputs": [],
   "source": []
  }
 ],
 "metadata": {
  "kernelspec": {
   "display_name": "Python 3 (ipykernel)",
   "language": "python",
   "name": "python3"
  },
  "language_info": {
   "codemirror_mode": {
    "name": "ipython",
    "version": 3
   },
   "file_extension": ".py",
   "mimetype": "text/x-python",
   "name": "python",
   "nbconvert_exporter": "python",
   "pygments_lexer": "ipython3",
   "version": "3.9.17"
  }
 },
 "nbformat": 4,
 "nbformat_minor": 5
}
