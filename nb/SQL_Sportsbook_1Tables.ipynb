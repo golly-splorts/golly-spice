{
 "cells": [
  {
   "cell_type": "markdown",
   "id": "d4d35646-a4bb-41df-905e-ee7a30e2f411",
   "metadata": {},
   "source": [
    "# Golly Sportsbook\n",
    "\n",
    "## SQL Table Setup and Data Classes\n",
    "\n",
    "This notebook sets up some data classes for tables useful for setting up a Golly sports book."
   ]
  },
  {
   "cell_type": "code",
   "execution_count": 14,
   "id": "aea2a51f-702f-49e1-bedc-896d1a583ec1",
   "metadata": {},
   "outputs": [],
   "source": [
    "import os, sys, subprocess, json, time"
   ]
  },
  {
   "cell_type": "code",
   "execution_count": 15,
   "id": "ade06e1f-e932-46de-9e79-9b80b0bd9b9d",
   "metadata": {},
   "outputs": [],
   "source": [
    "from sqlalchemy import Column, Integer, String, Boolean, Table\n",
    "from sqlalchemy.orm import relationship, backref\n",
    "from sqlalchemy.orm import DeclarativeBase"
   ]
  },
  {
   "cell_type": "markdown",
   "id": "3021f8de-f5a0-43c2-b4ce-f39d574cc9a4",
   "metadata": {},
   "source": [
    "## Game Result Table\n",
    "\n",
    "This table stores a simplified version of each game and its outcome. This table is used to compute other odds."
   ]
  },
  {
   "cell_type": "code",
   "execution_count": 16,
   "id": "cc1ef4e0-d1d3-4f14-94b3-a0665e23ff04",
   "metadata": {},
   "outputs": [],
   "source": [
    "class Base(DeclarativeBase):\n",
    "    pass"
   ]
  },
  {
   "cell_type": "code",
   "execution_count": 17,
   "id": "27e7ef7d-43b7-436a-a6e4-b8bb80e27fdd",
   "metadata": {},
   "outputs": [],
   "source": [
    "class GameResult(Base):\n",
    "    __tablename__ = \"sportsbook_game_result\"\n",
    "    gameid = Column(\"gameid\", String, primary_key=True)\n",
    "    cup = Column(\"cup\", String)\n",
    "    season = Column(\"season\", Integer)\n",
    "    day = Column(\"day\", Integer)\n",
    "    mapName = Column(\"mapName\", String)\n",
    "    winnerAbbr = Column(\"winnerAbbr\", String)\n",
    "    winnerPoints = Column(\"winnerPoints\", Integer)\n",
    "    loserAbbr = Column(\"loserAbbr\", String)\n",
    "    loserPoints = Column(\"loserPoints\", Integer)\n",
    "    isPostseason = Column(\"isPostseason\", Boolean)\n",
    "    series = Column(\"series\", String)\n",
    "    generations = Column(\"generations\", Integer)"
   ]
  },
  {
   "cell_type": "markdown",
   "id": "ea9a1739-3fc6-4a3d-9a44-226745cebcb8",
   "metadata": {},
   "source": [
    "## Moneyline Odds Table\n",
    "\n",
    "This table stores the moneyline odds for each game, so that they only need to be computed once."
   ]
  },
  {
   "cell_type": "code",
   "execution_count": 18,
   "id": "be689639-841b-420c-ab9f-bbc9384a846a",
   "metadata": {},
   "outputs": [],
   "source": [
    "class Moneyline(Base):\n",
    "    __tablename__ = \"sportsbook_moneyline\"\n",
    "    gameid = Column(\"gameid\", String, primary_key=True)\n",
    "    cup = Column(\"cup\", String)\n",
    "    season = Column(\"season\", Integer)\n",
    "    day = Column(\"day\", Integer)\n",
    "    mapName = Column(\"mapName\", String)\n",
    "    team1Abbr = Column(\"team1Abbr\", String)\n",
    "    team1Odds = Column(\"team1Odds\", Integer)\n",
    "    team2Abbr = Column(\"team2Abbr\", String)\n",
    "    team2Odds = Column(\"team2Odds\", Integer)"
   ]
  },
  {
   "cell_type": "markdown",
   "id": "f5a130fc-c003-42df-8516-e08851320b6b",
   "metadata": {},
   "source": [
    "## Map Generations Table and Map Points Table\n",
    "\n",
    "The map generations table stores the median number of generations reached on each map, for use in generation over/under bets.\n",
    "\n",
    "The map points table stores the number of points scored on each map (by total and by team). These numbers are used to compute spreads and total points over/under bets. They are not used directly."
   ]
  },
  {
   "cell_type": "code",
   "execution_count": 19,
   "id": "75e91fd1-7dc0-49b4-a7b7-78a54635c0ec",
   "metadata": {},
   "outputs": [],
   "source": [
    "class MapGenerations(Base):\n",
    "    __tablename__ = \"sportsbook_map_generations\"\n",
    "    id = Column(\"id\", Integer, primary_key=True)\n",
    "    cup = Column(\"cup\", String)\n",
    "    mapName = Column(\"mapName\", String)\n",
    "    # This is the median number of generations scored on this map\n",
    "    generations = Column(\"generations\", Integer)"
   ]
  },
  {
   "cell_type": "code",
   "execution_count": 20,
   "id": "5848ef40-5744-4b09-97ae-4d595c498512",
   "metadata": {},
   "outputs": [],
   "source": [
    "class MapPoints(Base):\n",
    "    __tablename__ = \"sportsbook_map_points\"\n",
    "    id = Column(\"id\", Integer, primary_key=True)\n",
    "    cup = Column(\"cup\", String)\n",
    "    season = Column(\"season\", Integer)\n",
    "    day = Column(\"day\", Integer)\n",
    "    mapName = Column(\"mapName\", String)\n",
    "    # If teamAbbr is empty, it means this is the median for all games on this map\n",
    "    teamAbbr = Column(\"teamAbbr\", String)\n",
    "    # This is the median number of points scored by this team on this map\n",
    "    teamPoints = Column(\"teamPoints\", Integer)"
   ]
  },
  {
   "cell_type": "markdown",
   "id": "e99714d7-c454-4163-9436-282bd6f9d7d4",
   "metadata": {},
   "source": [
    "## Spread Bets Table\n",
    "\n",
    "This table stores information about the point spread for each game. This is storing the final computed spread for spread bets."
   ]
  },
  {
   "cell_type": "code",
   "execution_count": 21,
   "id": "1bb44060-9fab-4f00-bfd6-31c30c83c169",
   "metadata": {},
   "outputs": [],
   "source": [
    "class Spreads(Base):\n",
    "    __tablename__ = \"sportsbook_spreads\"\n",
    "    gameid = Column(\"gameid\", String, primary_key=True)\n",
    "    cup = Column(\"cup\", String)\n",
    "    season = Column(\"season\", Integer)\n",
    "    day = Column(\"day\", Integer)\n",
    "    mapName = Column(\"mapName\", String)\n",
    "    # The overdog will get the - number\n",
    "    overdogName = Column(\"overdogName\", String)\n",
    "    # The underdog will get the + number\n",
    "    underdogName = Column(\"underdogName\", String)\n",
    "    spread = Column(\"spread\", Integer)"
   ]
  },
  {
   "cell_type": "markdown",
   "id": "085ca587-e1f0-4848-88c4-40f63be9c1dc",
   "metadata": {},
   "source": [
    "## Create Tables\n",
    "\n",
    "Now we'll create each table..."
   ]
  },
  {
   "cell_type": "code",
   "execution_count": 22,
   "id": "d794f629-50c8-4eca-ab3b-fe74294197ae",
   "metadata": {},
   "outputs": [],
   "source": [
    "from sqlalchemy.schema import CreateTable\n",
    "from sqlalchemy.dialects import sqlite"
   ]
  },
  {
   "cell_type": "code",
   "execution_count": 23,
   "id": "ff842eda-5fa4-4013-b736-2d9621147efd",
   "metadata": {},
   "outputs": [],
   "source": [
    "#print(CreateTable(GameResult.__table__).compile(dialect=sqlite.dialect()))"
   ]
  },
  {
   "cell_type": "code",
   "execution_count": 24,
   "id": "20ecab22-a393-4402-ab58-e142c4ca208f",
   "metadata": {},
   "outputs": [],
   "source": [
    "from sqlalchemy import create_engine\n",
    "from sqlalchemy.orm import sessionmaker\n",
    "\n",
    "fpath = os.path.join(os.environ['HOME'], 'tmp', 'sqlite', 'mydb.db')\n",
    "engine = create_engine(f\"sqlite:///{fpath}\")\n",
    "Session = sessionmaker(engine)"
   ]
  },
  {
   "cell_type": "code",
   "execution_count": 25,
   "id": "727b34d5-af62-4eac-bc87-f8f3c059fdc1",
   "metadata": {},
   "outputs": [],
   "source": [
    "# Start by creating all the tables\n",
    "Base.metadata.create_all(engine)"
   ]
  },
  {
   "cell_type": "code",
   "execution_count": 26,
   "id": "93a734c6-080b-4acc-be4b-2d4aac172720",
   "metadata": {},
   "outputs": [
    {
     "name": "stdout",
     "output_type": "stream",
     "text": [
      "23748\n"
     ]
    }
   ],
   "source": [
    "# Run a simple query on the tables\n",
    "with Session() as session:\n",
    "    results = session.query(GameResult).all()\n",
    "\n",
    "print(len(results))"
   ]
  },
  {
   "cell_type": "code",
   "execution_count": null,
   "id": "c76a7da1-6acd-48ee-a53b-b7fb31f22f10",
   "metadata": {},
   "outputs": [],
   "source": []
  },
  {
   "cell_type": "code",
   "execution_count": null,
   "id": "92426502-ed2e-4f61-8735-06de29459c20",
   "metadata": {},
   "outputs": [],
   "source": []
  },
  {
   "cell_type": "code",
   "execution_count": null,
   "id": "c4696fa3-147a-49cd-9958-93ac976915a6",
   "metadata": {},
   "outputs": [],
   "source": []
  }
 ],
 "metadata": {
  "kernelspec": {
   "display_name": "Python 3 (ipykernel)",
   "language": "python",
   "name": "python3"
  },
  "language_info": {
   "codemirror_mode": {
    "name": "ipython",
    "version": 3
   },
   "file_extension": ".py",
   "mimetype": "text/x-python",
   "name": "python",
   "nbconvert_exporter": "python",
   "pygments_lexer": "ipython3",
   "version": "3.9.17"
  }
 },
 "nbformat": 4,
 "nbformat_minor": 5
}
