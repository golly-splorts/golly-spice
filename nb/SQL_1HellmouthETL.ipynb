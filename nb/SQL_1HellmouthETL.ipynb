{
 "cells": [
  {
   "cell_type": "markdown",
   "id": "770c7669-212c-4fc6-8951-08ddbf2cde8d",
   "metadata": {},
   "source": [
    "# SQL ETL Notebook: Hellmouth Cup\n",
    "\n",
    "Perform SQL ETL to load game and team data for the Hellmouth Cup and put it in the SQL database."
   ]
  },
  {
   "cell_type": "code",
   "execution_count": 1,
   "id": "d48edf79-064b-4363-8e24-4c084749e206",
   "metadata": {},
   "outputs": [],
   "source": [
    "import os, sys, subprocess, json, time"
   ]
  },
  {
   "cell_type": "code",
   "execution_count": 2,
   "id": "a737f1c3-9443-4a81-9a79-31d418416795",
   "metadata": {},
   "outputs": [],
   "source": [
    "from sqlalchemy import Column, Integer, String, Boolean, Table\n",
    "from sqlalchemy.orm import relationship, backref\n",
    "from sqlalchemy.orm import DeclarativeBase"
   ]
  },
  {
   "cell_type": "code",
   "execution_count": 3,
   "id": "ffb78610-65f6-4746-9397-cb37d87a2f62",
   "metadata": {},
   "outputs": [],
   "source": [
    "class Base(DeclarativeBase):\n",
    "    pass"
   ]
  },
  {
   "cell_type": "code",
   "execution_count": 4,
   "id": "5a675e9e-e3d2-4d7e-a88d-7804bacc39b4",
   "metadata": {},
   "outputs": [],
   "source": [
    "class HellmouthGame(Base):\n",
    "    __tablename__ = \"hellmouth\"\n",
    "    gameid = Column(\"gameid\", String, primary_key=True)\n",
    "    team1Abbr = Column(\"team1Abbr\", String)\n",
    "    team1Name = Column(\"team1Name\", String)\n",
    "    team1Color = Column(\"team1Color\", String)\n",
    "    team2Abbr = Column(\"team2Abbr\", String)\n",
    "    team2Name = Column(\"team2Name\", String)\n",
    "    team2Color = Column(\"team2Color\", String)\n",
    "    season = Column(\"season\", Integer)\n",
    "    day = Column(\"day\", Integer)\n",
    "    isPostseason = Column(\"isPostseason\", Boolean)\n",
    "    series = Column(\"series\", String)\n",
    "    league = Column(\"league\", String)\n",
    "    map_patternName = Column(\"map_patternName\", String)\n",
    "    map_mapName = Column(\"map_mapName\", String)\n",
    "    map_initialConditions1 = Column(\"map_initialConditions1\", String)\n",
    "    map_initialConditions2 = Column(\"map_initialConditions2\", String)\n",
    "    map_rows = Column(\"map_rows\", Integer)\n",
    "    map_columns = Column(\"map_columns\", Integer)\n",
    "    map_cellSize = Column(\"map_cellSize\", Integer)\n",
    "    team1Score = Column(\"team1Score\", Integer)\n",
    "    team2Score = Column(\"team2Score\", Integer)\n",
    "    generations = Column(\"generations\", Integer)\n",
    "    team1WinLoss_W = Column(\"team1WinLoss_W\", Integer)\n",
    "    team1WinLoss_L = Column(\"team1WinLoss_L\", Integer)\n",
    "    team2WinLoss_W = Column(\"team2WinLoss_W\", Integer)\n",
    "    team2WinLoss_L = Column(\"team2WinLoss_L\", Integer)\n",
    "    team1PostseasonWinLoss_W = Column(\"team1PostseasonWinLoss_W\", Integer)\n",
    "    team1PostseasonWinLoss_L = Column(\"team1PostseasonWinLoss_L\", Integer)\n",
    "    team2PostseasonWinLoss_W = Column(\"team2PostseasonWinLoss_W\", Integer)\n",
    "    team2PostseasonWinLoss_L = Column(\"team2PostseasonWinLoss_L\", Integer)\n",
    "    team1SeriesWinLoss_W = Column(\"team1SeriesWinLoss_W\", Integer)\n",
    "    team1SeriesWinLoss_L = Column(\"team1SeriesWinLoss_L\", Integer)\n",
    "    team2SeriesWinLoss_W = Column(\"team2SeriesWinLoss_W\", Integer)\n",
    "    team2SeriesWinLoss_L = Column(\"team2SeriesWinLoss_L\", Integer)"
   ]
  },
  {
   "cell_type": "markdown",
   "id": "4c911585-7a45-48b3-a4d3-4a447b4e68c9",
   "metadata": {},
   "source": [
    "This table class can also be used with the sqlalchemy CreateTable class, to generate the SQL needed to create this table.\n",
    "\n",
    "Example from here: <https://docs.sqlalchemy.org/en/20/orm/declarative_tables.html>"
   ]
  },
  {
   "cell_type": "code",
   "execution_count": 5,
   "id": "2410a4af-73fb-4444-8aae-144bcde0a393",
   "metadata": {},
   "outputs": [],
   "source": [
    "from sqlalchemy.schema import CreateTable\n",
    "from sqlalchemy.dialects import sqlite"
   ]
  },
  {
   "cell_type": "code",
   "execution_count": 6,
   "id": "97fc0b3e-5127-4d56-9e35-48fa66d4bdc6",
   "metadata": {},
   "outputs": [
    {
     "name": "stdout",
     "output_type": "stream",
     "text": [
      "\n",
      "CREATE TABLE hellmouth (\n",
      "\tgameid VARCHAR NOT NULL, \n",
      "\t\"team1Abbr\" VARCHAR, \n",
      "\t\"team1Name\" VARCHAR, \n",
      "\t\"team1Color\" VARCHAR, \n",
      "\t\"team2Abbr\" VARCHAR, \n",
      "\t\"team2Name\" VARCHAR, \n",
      "\t\"team2Color\" VARCHAR, \n",
      "\tseason INTEGER, \n",
      "\tday INTEGER, \n",
      "\t\"isPostseason\" BOOLEAN, \n",
      "\tseries VARCHAR, \n",
      "\tleague VARCHAR, \n",
      "\t\"map_patternName\" VARCHAR, \n",
      "\t\"map_mapName\" VARCHAR, \n",
      "\t\"map_initialConditions1\" VARCHAR, \n",
      "\t\"map_initialConditions2\" VARCHAR, \n",
      "\tmap_rows INTEGER, \n",
      "\tmap_columns INTEGER, \n",
      "\t\"map_cellSize\" INTEGER, \n",
      "\t\"team1Score\" INTEGER, \n",
      "\t\"team2Score\" INTEGER, \n",
      "\tgenerations INTEGER, \n",
      "\t\"team1WinLoss_W\" INTEGER, \n",
      "\t\"team1WinLoss_L\" INTEGER, \n",
      "\t\"team2WinLoss_W\" INTEGER, \n",
      "\t\"team2WinLoss_L\" INTEGER, \n",
      "\t\"team1PostseasonWinLoss_W\" INTEGER, \n",
      "\t\"team1PostseasonWinLoss_L\" INTEGER, \n",
      "\t\"team2PostseasonWinLoss_W\" INTEGER, \n",
      "\t\"team2PostseasonWinLoss_L\" INTEGER, \n",
      "\t\"team1SeriesWinLoss_W\" INTEGER, \n",
      "\t\"team1SeriesWinLoss_L\" INTEGER, \n",
      "\t\"team2SeriesWinLoss_W\" INTEGER, \n",
      "\t\"team2SeriesWinLoss_L\" INTEGER, \n",
      "\tPRIMARY KEY (gameid)\n",
      ")\n",
      "\n",
      "\n"
     ]
    }
   ],
   "source": [
    "print(CreateTable(HellmouthGame.__table__).compile(dialect=sqlite.dialect()))"
   ]
  },
  {
   "cell_type": "code",
   "execution_count": null,
   "id": "bfbc6eca-6cc1-4cbf-8dcc-a44462e9e05e",
   "metadata": {},
   "outputs": [],
   "source": []
  },
  {
   "cell_type": "code",
   "execution_count": null,
   "id": "835c2383-5551-46e4-bcee-1957784832b2",
   "metadata": {},
   "outputs": [],
   "source": []
  },
  {
   "cell_type": "code",
   "execution_count": null,
   "id": "3c3055b6-6928-4a2a-87f4-6c198336419c",
   "metadata": {},
   "outputs": [],
   "source": []
  },
  {
   "cell_type": "code",
   "execution_count": 7,
   "id": "0934fe1f-dc41-4d8f-ad47-a5a2eae1e3ca",
   "metadata": {},
   "outputs": [],
   "source": [
    "CUP = 'hellmouth'\n",
    "\n",
    "def fetch_data(which_season0, fname):\n",
    "    f = os.path.join('..', 'data', f'gollyx-{CUP}-data', f'season{which_season0}', fname)\n",
    "    if not os.path.exists(f):\n",
    "        raise Exception(f\"Error: season {which_season0} not valid: {f} does not exist\")\n",
    "    with open(f, 'r') as fz:\n",
    "        season0_seas = json.load(fz)\n",
    "    return season0_seas"
   ]
  },
  {
   "cell_type": "code",
   "execution_count": 8,
   "id": "080ab7c4-92f3-45c8-9573-56ea944047b5",
   "metadata": {},
   "outputs": [],
   "source": [
    "def fetch_season_data(which_season0):\n",
    "    return fetch_data(which_season0, fname='season.json')\n",
    "\n",
    "def fetch_postseason_data(which_season0):\n",
    "    return fetch_data(which_season0, fname='postseason.json')"
   ]
  },
  {
   "cell_type": "code",
   "execution_count": 9,
   "id": "526185cd-2bcc-4db5-9847-32ec8986859c",
   "metadata": {},
   "outputs": [],
   "source": [
    "def flatten_season(season):\n",
    "    games = []\n",
    "    for day in season:\n",
    "        for game in day:\n",
    "            games.append(game)\n",
    "    return games\n",
    "\n",
    "def flatten_postseason(postseason):\n",
    "    games = []\n",
    "    for series in postseason:\n",
    "        miniseason = postseason[series]\n",
    "        for day in miniseason:\n",
    "            for game in day:\n",
    "                game['series'] = series\n",
    "                games.append(game)\n",
    "    return games"
   ]
  },
  {
   "cell_type": "code",
   "execution_count": 10,
   "id": "e54ccaf5-8e71-47c0-8522-8c71c492a2c8",
   "metadata": {},
   "outputs": [],
   "source": [
    "s3 = flatten_season(fetch_season_data(3))\n",
    "g = s3[0]"
   ]
  },
  {
   "cell_type": "code",
   "execution_count": 11,
   "id": "fb1b8a3d-bdb1-484e-9d3e-98426dfc7b97",
   "metadata": {},
   "outputs": [
    {
     "name": "stdout",
     "output_type": "stream",
     "text": [
      "dict_keys(['team1Name', 'team2Name', 'season', 'day', 'gameid', 'isPostseason', 'league', 'team1Color', 'team2Color', 'team1WinLoss', 'team2WinLoss', 'map', 'team1Score', 'team2Score', 'generations', 'team1Abbr', 'team2Abbr'])\n"
     ]
    }
   ],
   "source": [
    "print(g.keys())"
   ]
  },
  {
   "cell_type": "code",
   "execution_count": 12,
   "id": "2dbaeede-d7fc-4cc9-9514-2d952a4f7721",
   "metadata": {},
   "outputs": [],
   "source": [
    "p3 = flatten_postseason(fetch_postseason_data(3))\n",
    "g2 = p3[0]"
   ]
  },
  {
   "cell_type": "code",
   "execution_count": 13,
   "id": "326906d7-0795-4885-b0e1-b07f40084123",
   "metadata": {},
   "outputs": [
    {
     "name": "stdout",
     "output_type": "stream",
     "text": [
      "dict_keys(['team1Name', 'team2Name', 'team1Color', 'team2Color', 'league', 'day', 'season', 'gameid', 'isPostseason', 'description', 'team1PostseasonWinLoss', 'team2PostseasonWinLoss', 'team1SeriesWinLoss', 'team2SeriesWinLoss', 'map', 'team1Score', 'team2Score', 'generations', 'team1Abbr', 'team2Abbr', 'series'])\n"
     ]
    }
   ],
   "source": [
    "print(g2.keys())"
   ]
  },
  {
   "cell_type": "code",
   "execution_count": 14,
   "id": "cc51faf7-5fd5-4ca7-a8d4-6ba43ab065c9",
   "metadata": {},
   "outputs": [],
   "source": [
    "def create_new_game(session, game, id_key='gameid'):\n",
    "    this_id = game[id_key]\n",
    "    \n",
    "    # Check if game already exists\n",
    "    existing_game = (\n",
    "        session.query(HellmouthGame)\n",
    "        .filter(HellmouthGame.gameid==this_id)\n",
    "        .one_or_none()\n",
    "    )\n",
    "    if existing_game is not None:\n",
    "        # print(f\"Found an existing game with game id {this_id}, skipping insert\")\n",
    "        return\n",
    "\n",
    "    # Now create the new game.\n",
    "    # Keys are mostly one-to-one map, except maps and win/loss.\n",
    "    # (First, account for the difference in keys in postseason vs regular season games)\n",
    "    if 'description' not in game:\n",
    "        game['description'] = ''\n",
    "    if 'series' not in game:\n",
    "        game['series'] = ''\n",
    "    if 'league' not in game:\n",
    "        game['league'] = ''\n",
    "    if 'team1WinLoss' not in game:\n",
    "        game['team1WinLoss'] = [-1, -1]\n",
    "        game['team2WinLoss'] = [-1, -1]\n",
    "    if 'team1PostseasonWinLoss' not in game:\n",
    "        game['team1PostseasonWinLoss'] = [-1, -1]\n",
    "        game['team2PostseasonWinLoss'] = [-1, -1]\n",
    "    if 'team1SeriesWinLoss' not in game:\n",
    "        game['team1SeriesWinLoss'] = [-1, -1]\n",
    "        game['team2SeriesWinLoss'] = [-1, -1]\n",
    "    \n",
    "    hg = HellmouthGame(\n",
    "        gameid = game['gameid'],\n",
    "        team1Abbr = game['team1Abbr'],\n",
    "        team1Name = game['team1Name'],\n",
    "        team1Color = game['team1Color'],\n",
    "        team2Abbr = game['team2Abbr'],\n",
    "        team2Name = game['team2Name'],\n",
    "        team2Color = game['team2Color'],\n",
    "        season = game['season'],\n",
    "        day = game['day'],\n",
    "        isPostseason = game['isPostseason'],\n",
    "        series = game['series'],\n",
    "        league = game['league'],\n",
    "        map_patternName = game['map']['patternName'],\n",
    "        map_mapName = game['map']['mapName'],\n",
    "        map_initialConditions1 = game['map']['initialConditions1'],\n",
    "        map_initialConditions2 = game['map']['initialConditions2'],\n",
    "        map_rows = game['map']['rows'],\n",
    "        map_columns = game['map']['columns'],\n",
    "        map_cellSize = game['map']['cellSize'],\n",
    "        team1Score = game['team1Score'],\n",
    "        team2Score = game['team2Score'],\n",
    "        generations = game['generations'],\n",
    "        team1WinLoss_W = game['team1WinLoss'][0],\n",
    "        team1WinLoss_L = game['team1WinLoss'][1],\n",
    "        team2WinLoss_W = game['team2WinLoss'][0],\n",
    "        team2WinLoss_L = game['team2WinLoss'][1],\n",
    "        team1PostseasonWinLoss_W = game['team1PostseasonWinLoss'][0],\n",
    "        team1PostseasonWinLoss_L = game['team1PostseasonWinLoss'][1],\n",
    "        team2PostseasonWinLoss_W = game['team2PostseasonWinLoss'][0],\n",
    "        team2PostseasonWinLoss_L = game['team2PostseasonWinLoss'][1],\n",
    "        team1SeriesWinLoss_W = game['team1SeriesWinLoss'][0],\n",
    "        team1SeriesWinLoss_L = game['team1SeriesWinLoss'][1],\n",
    "        team2SeriesWinLoss_W = game['team2SeriesWinLoss'][0],\n",
    "        team2SeriesWinLoss_L = game['team2SeriesWinLoss'][1],\n",
    "    )\n",
    "    session.add(hg)"
   ]
  },
  {
   "cell_type": "markdown",
   "id": "c1184eab-a241-4d46-a120-41e642afe67f",
   "metadata": {},
   "source": [
    "Now it's time to actually create a session, and call this function, and see if it works.\n",
    "\n",
    "Documentation for creating and configuring an engine: <https://docs.sqlalchemy.org/en/20/core/engines.html#sqlite>\n",
    "\n",
    "Documentation for creating a session: <https://docs.sqlalchemy.org/en/20/orm/session_basics.html>"
   ]
  },
  {
   "cell_type": "code",
   "execution_count": 15,
   "id": "74602ad3-1f8f-4276-b991-4dc6f1e74796",
   "metadata": {},
   "outputs": [],
   "source": [
    "import logging\n",
    "\n",
    "logging.basicConfig()\n",
    "logging.getLogger(\"sqlalchemy.engine\").setLevel(logging.WARNING)\n",
    "#logging.getLogger(\"sqlalchemy.pool\").setLevel(logging.DEBUG)\n",
    "logging.getLogger(\"sqlalchemy.pool\").setLevel(logging.WARNING)"
   ]
  },
  {
   "cell_type": "code",
   "execution_count": 16,
   "id": "5606deac-a45a-49fe-8188-213b82bb8522",
   "metadata": {},
   "outputs": [],
   "source": [
    "from sqlalchemy import create_engine\n",
    "from sqlalchemy.orm import sessionmaker\n",
    "\n",
    "fpath = os.path.join(os.environ['HOME'], 'tmp', 'sqlite', 'mydb.db')\n",
    "engine = create_engine(f\"sqlite:///{fpath}\")\n",
    "Session = sessionmaker(engine)"
   ]
  },
  {
   "cell_type": "code",
   "execution_count": 17,
   "id": "908abfa3-d18a-4eb0-aec0-0bcce77581fe",
   "metadata": {},
   "outputs": [],
   "source": [
    "# Start by creating all the tables\n",
    "Base.metadata.create_all(engine)"
   ]
  },
  {
   "cell_type": "code",
   "execution_count": 18,
   "id": "d3c4179d-f02c-46d0-8dfe-5d8f55dc3253",
   "metadata": {},
   "outputs": [
    {
     "name": "stdout",
     "output_type": "stream",
     "text": [
      "11042\n"
     ]
    }
   ],
   "source": [
    "# Run a simple query on the tables\n",
    "with Session() as session:\n",
    "    results = session.query(HellmouthGame).all()\n",
    "\n",
    "print(len(results))"
   ]
  },
  {
   "cell_type": "code",
   "execution_count": 19,
   "id": "d3e71c05-ce9e-4e25-bc06-3573198543b6",
   "metadata": {},
   "outputs": [],
   "source": [
    "# By using .begin(), each function call will call session.add() multiple times within the context,\n",
    "# and when the context is closed, it will apply all changes.\n",
    "with Session.begin() as session:\n",
    "    create_new_game(session, s3[0])"
   ]
  },
  {
   "cell_type": "markdown",
   "id": "581c75fd-469d-47c9-937a-e5abe7311f48",
   "metadata": {},
   "source": [
    "## Load Season Data into SQLite Database\n",
    "\n",
    "The code below loads all 24 regular season games into the SQLite database:"
   ]
  },
  {
   "cell_type": "code",
   "execution_count": 20,
   "id": "f8aa7b8a-25ac-4079-895a-8430feb8ade7",
   "metadata": {},
   "outputs": [
    {
     "name": "stdout",
     "output_type": "stream",
     "text": [
      "Working on season0=0\n",
      "Working on season0=1\n",
      "Working on season0=2\n",
      "Working on season0=3\n",
      "Working on season0=4\n",
      "Working on season0=5\n",
      "Working on season0=6\n",
      "Working on season0=7\n",
      "Working on season0=8\n",
      "Working on season0=9\n",
      "Working on season0=10\n",
      "Working on season0=11\n",
      "Working on season0=12\n",
      "Working on season0=13\n",
      "Working on season0=14\n",
      "Working on season0=15\n",
      "Working on season0=16\n",
      "Working on season0=17\n",
      "Working on season0=18\n",
      "Working on season0=19\n",
      "Working on season0=20\n",
      "Working on season0=21\n",
      "Working on season0=22\n",
      "Working on season0=23\n",
      "\n",
      "Done!\n"
     ]
    }
   ],
   "source": [
    "for season0 in range(24):\n",
    "    sdat = flatten_season(fetch_season_data(season0))\n",
    "    # Create a new context manager for each season, to limit number of inserts at one time\n",
    "    with Session.begin() as session:\n",
    "        print(f\"Working on season0={season0}\")\n",
    "        for game in sdat:\n",
    "            create_new_game(session, game)\n",
    "print(\"\\nDone!\")"
   ]
  },
  {
   "cell_type": "code",
   "execution_count": 21,
   "id": "8023bc22-850d-4f78-88a2-e8c71db24602",
   "metadata": {},
   "outputs": [
    {
     "name": "stdout",
     "output_type": "stream",
     "text": [
      "Working on season0=0 postseason\n",
      "Working on season0=1 postseason\n",
      "Working on season0=2 postseason\n",
      "Working on season0=3 postseason\n",
      "Working on season0=4 postseason\n",
      "Working on season0=5 postseason\n",
      "Working on season0=6 postseason\n",
      "Working on season0=7 postseason\n",
      "Working on season0=8 postseason\n",
      "Working on season0=9 postseason\n",
      "Working on season0=10 postseason\n",
      "Working on season0=11 postseason\n",
      "Working on season0=12 postseason\n",
      "Working on season0=13 postseason\n",
      "Working on season0=14 postseason\n",
      "Working on season0=15 postseason\n",
      "Working on season0=16 postseason\n",
      "Working on season0=17 postseason\n",
      "Working on season0=18 postseason\n",
      "Working on season0=19 postseason\n",
      "Working on season0=20 postseason\n",
      "Working on season0=21 postseason\n",
      "Working on season0=22 postseason\n",
      "Working on season0=23 postseason\n",
      "\n",
      "Done!\n"
     ]
    }
   ],
   "source": [
    "for season0 in range(24):\n",
    "    pdat = flatten_postseason(fetch_postseason_data(season0))\n",
    "    # Create a new context manager for each season, to limit number of inserts at one time\n",
    "    with Session.begin() as session:\n",
    "        print(f\"Working on season0={season0} postseason\")\n",
    "        for game in pdat:\n",
    "            create_new_game(session, game)\n",
    "print(\"\\nDone!\")"
   ]
  },
  {
   "cell_type": "code",
   "execution_count": null,
   "id": "73d4787c-d67b-4aad-81c2-7d7c6b5a9adf",
   "metadata": {},
   "outputs": [],
   "source": []
  }
 ],
 "metadata": {
  "kernelspec": {
   "display_name": "Python 3 (ipykernel)",
   "language": "python",
   "name": "python3"
  },
  "language_info": {
   "codemirror_mode": {
    "name": "ipython",
    "version": 3
   },
   "file_extension": ".py",
   "mimetype": "text/x-python",
   "name": "python",
   "nbconvert_exporter": "python",
   "pygments_lexer": "ipython3",
   "version": "3.9.17"
  }
 },
 "nbformat": 4,
 "nbformat_minor": 5
}
