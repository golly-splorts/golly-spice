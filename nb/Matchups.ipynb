{
 "cells": [
  {
   "cell_type": "markdown",
   "id": "fcb1a7b9",
   "metadata": {},
   "source": [
    "# Matchup Combinations\n",
    "\n",
    "explore some matchup combinations..."
   ]
  },
  {
   "cell_type": "code",
   "execution_count": 1,
   "id": "259219fa",
   "metadata": {},
   "outputs": [],
   "source": [
    "import os, sys, subprocess, json, time\n",
    "from pprint import pprint\n",
    "import itertools\n",
    "import random\n",
    "\n",
    "import matplotlib.pyplot as plt\n",
    "import seaborn as sns"
   ]
  },
  {
   "cell_type": "code",
   "execution_count": 2,
   "id": "676a032b",
   "metadata": {},
   "outputs": [
    {
     "name": "stdout",
     "output_type": "stream",
     "text": [
      "clone.sh\n",
      "gollyx-dragon-data\n",
      "gollyx-hellmouth-data\n",
      "gollyx-klein-data\n",
      "gollyx-pseudo-data\n",
      "gollyx-rainbow-data\n",
      "gollyx-star-data\n",
      "gollyx-toroidal-data\n",
      "\n"
     ]
    }
   ],
   "source": [
    "def run_cmd(cmd_str):\n",
    "    child = subprocess.Popen(cmd_str, shell=True, stdout=subprocess.PIPE)\n",
    "    output = child.communicate()[0].decode()\n",
    "    return output\n",
    "\n",
    "print(run_cmd('ls ../data/'))"
   ]
  },
  {
   "cell_type": "markdown",
   "id": "045e2cf5",
   "metadata": {},
   "source": [
    "## Hellmouth Cup"
   ]
  },
  {
   "cell_type": "code",
   "execution_count": 3,
   "id": "a6444e08",
   "metadata": {},
   "outputs": [],
   "source": [
    "CUP = 'hellmouth'"
   ]
  },
  {
   "cell_type": "markdown",
   "id": "5aabaca6",
   "metadata": {},
   "source": [
    "### Classic Teams"
   ]
  },
  {
   "cell_type": "code",
   "execution_count": 4,
   "id": "b07531e6",
   "metadata": {},
   "outputs": [],
   "source": [
    "which_season0 = 3\n",
    "teams_file = os.path.join('..', 'data', f'gollyx-{CUP}-data', f'season{which_season0}', 'teams.json')\n",
    "with open(teams_file, 'r') as f:\n",
    "    classic_teams = json.load(f)"
   ]
  },
  {
   "cell_type": "code",
   "execution_count": 5,
   "id": "092bd7cf",
   "metadata": {},
   "outputs": [
    {
     "data": {
      "text/plain": [
       "dict_keys(['teamId', 'teamAbbr', 'teamName', 'teamColor', 'league', 'division'])"
      ]
     },
     "execution_count": 5,
     "metadata": {},
     "output_type": "execute_result"
    }
   ],
   "source": [
    "classic_teams[0].keys()"
   ]
  },
  {
   "cell_type": "code",
   "execution_count": 6,
   "id": "4701ef3f",
   "metadata": {},
   "outputs": [
    {
     "data": {
      "text/plain": [
       "'Hot League'"
      ]
     },
     "execution_count": 6,
     "metadata": {},
     "output_type": "execute_result"
    }
   ],
   "source": [
    "classic_teams[0]['league']"
   ]
  },
  {
   "cell_type": "code",
   "execution_count": 7,
   "id": "2f5494cb",
   "metadata": {},
   "outputs": [
    {
     "name": "stdout",
     "output_type": "stream",
     "text": [
      "Delaware Corporate Shells\n",
      "Milwaukee Flamingos\n",
      "Detroit Grape Chews\n",
      "San Francisco Boat Shoes\n",
      "Sacramento Boot Lickers\n",
      "Atlanta Glitter Sharks\n",
      "Orlando Business Majors\n",
      "Alewife Arsonists\n",
      "Baltimore Texas\n",
      "Long Beach Flightless Birds\n",
      "Seattle Sneakers\n",
      "Elko Astronauts\n",
      "Jersey OSHA Violations\n",
      "Ft. Worth Piano Tuners\n",
      "San Diego Balloon Animals\n",
      "Tucson Butchers\n"
     ]
    }
   ],
   "source": [
    "print(\"\\n\".join([t['teamName'] for t in classic_teams]))"
   ]
  },
  {
   "cell_type": "code",
   "execution_count": 8,
   "id": "fdecbe17",
   "metadata": {},
   "outputs": [],
   "source": [
    "h_league = [t['teamName'] for t in classic_teams if 'Hot' in t['league']]\n",
    "c_league = [t['teamName'] for t in classic_teams if 'Cold' in t['league']]"
   ]
  },
  {
   "cell_type": "code",
   "execution_count": 17,
   "id": "5bb699c5",
   "metadata": {},
   "outputs": [
    {
     "name": "stdout",
     "output_type": "stream",
     "text": [
      "['Sacramento Boot Lickers',\n",
      " 'San Francisco Boat Shoes',\n",
      " 'Atlanta Glitter Sharks',\n",
      " 'Detroit Grape Chews',\n",
      " 'Orlando Business Majors',\n",
      " 'Milwaukee Flamingos',\n",
      " 'Alewife Arsonists',\n",
      " 'Delaware Corporate Shells']\n"
     ]
    }
   ],
   "source": [
    "pprint(h_league)"
   ]
  },
  {
   "cell_type": "code",
   "execution_count": 18,
   "id": "6e54c1c9",
   "metadata": {},
   "outputs": [
    {
     "name": "stdout",
     "output_type": "stream",
     "text": [
      "['Long Beach Flightless Birds',\n",
      " 'Jersey OSHA Violations',\n",
      " 'Tucson Butchers',\n",
      " 'Elko Astronauts',\n",
      " 'San Diego Balloon Animals',\n",
      " 'Seattle Sneakers',\n",
      " 'Ft. Worth Piano Tuners',\n",
      " 'Baltimore Texas']\n"
     ]
    }
   ],
   "source": [
    "pprint(c_league)"
   ]
  },
  {
   "cell_type": "code",
   "execution_count": 9,
   "id": "de4ffedf",
   "metadata": {
    "scrolled": false
   },
   "outputs": [
    {
     "name": "stdout",
     "output_type": "stream",
     "text": [
      "San Francisco Boat Shoes - Atlanta Glitter Sharks\n",
      "\n",
      "San Francisco Boat Shoes - Orlando Business Majors\n",
      "\n",
      "Sacramento Boot Lickers - San Francisco Boat Shoes\n",
      "\n",
      "Orlando Business Majors - Delaware Corporate Shells\n",
      "\n",
      "San Francisco Boat Shoes - Detroit Grape Chews\n",
      "\n",
      "Orlando Business Majors - Milwaukee Flamingos\n",
      "\n",
      "Sacramento Boot Lickers - Alewife Arsonists\n",
      "\n",
      "Detroit Grape Chews - Delaware Corporate Shells\n",
      "\n",
      "Atlanta Glitter Sharks - Milwaukee Flamingos\n",
      "\n",
      "San Francisco Boat Shoes - Alewife Arsonists\n",
      "\n",
      "Sacramento Boot Lickers - Orlando Business Majors\n",
      "\n",
      "Sacramento Boot Lickers - Detroit Grape Chews\n",
      "\n",
      "Detroit Grape Chews - Milwaukee Flamingos\n",
      "\n",
      "Sacramento Boot Lickers - Delaware Corporate Shells\n",
      "\n",
      "Sacramento Boot Lickers - Atlanta Glitter Sharks\n",
      "\n",
      "San Francisco Boat Shoes - Delaware Corporate Shells\n",
      "\n",
      "Milwaukee Flamingos - Alewife Arsonists\n",
      "\n",
      "Sacramento Boot Lickers - Milwaukee Flamingos\n",
      "\n",
      "Orlando Business Majors - Alewife Arsonists\n",
      "\n",
      "Detroit Grape Chews - Alewife Arsonists\n",
      "\n",
      "Atlanta Glitter Sharks - Delaware Corporate Shells\n",
      "\n",
      "San Francisco Boat Shoes - Milwaukee Flamingos\n",
      "\n",
      "Atlanta Glitter Sharks - Alewife Arsonists\n",
      "\n",
      "Alewife Arsonists - Delaware Corporate Shells\n",
      "\n",
      "Detroit Grape Chews - Orlando Business Majors\n",
      "\n",
      "Atlanta Glitter Sharks - Detroit Grape Chews\n",
      "\n",
      "Milwaukee Flamingos - Delaware Corporate Shells\n",
      "\n",
      "Atlanta Glitter Sharks - Orlando Business Majors\n"
     ]
    }
   ],
   "source": [
    "random.seed(69)\n",
    "random.shuffle(h_league)\n",
    "classic_h_matchups = [f\"{a} - {b}\" for a,b in itertools.combinations(h_league, 2)]\n",
    "random.shuffle(classic_h_matchups)\n",
    "print(\"\\n\\n\".join(classic_h_matchups))"
   ]
  },
  {
   "cell_type": "code",
   "execution_count": 10,
   "id": "aebca6d2",
   "metadata": {},
   "outputs": [
    {
     "name": "stdout",
     "output_type": "stream",
     "text": [
      "Jersey OSHA Violations - Ft. Worth Piano Tuners\n",
      "\n",
      "Seattle Sneakers - Baltimore Texas\n",
      "\n",
      "Elko Astronauts - Baltimore Texas\n",
      "\n",
      "Long Beach Flightless Birds - Baltimore Texas\n",
      "\n",
      "San Diego Balloon Animals - Seattle Sneakers\n",
      "\n",
      "San Diego Balloon Animals - Baltimore Texas\n",
      "\n",
      "Jersey OSHA Violations - San Diego Balloon Animals\n",
      "\n",
      "Jersey OSHA Violations - Tucson Butchers\n",
      "\n",
      "Jersey OSHA Violations - Baltimore Texas\n",
      "\n",
      "Long Beach Flightless Birds - Tucson Butchers\n",
      "\n",
      "Elko Astronauts - San Diego Balloon Animals\n",
      "\n",
      "Long Beach Flightless Birds - Elko Astronauts\n",
      "\n",
      "San Diego Balloon Animals - Ft. Worth Piano Tuners\n",
      "\n",
      "Long Beach Flightless Birds - Ft. Worth Piano Tuners\n",
      "\n",
      "Tucson Butchers - San Diego Balloon Animals\n",
      "\n",
      "Long Beach Flightless Birds - San Diego Balloon Animals\n",
      "\n",
      "Jersey OSHA Violations - Elko Astronauts\n",
      "\n",
      "Tucson Butchers - Elko Astronauts\n",
      "\n",
      "Seattle Sneakers - Ft. Worth Piano Tuners\n",
      "\n",
      "Tucson Butchers - Baltimore Texas\n",
      "\n",
      "Long Beach Flightless Birds - Seattle Sneakers\n",
      "\n",
      "Elko Astronauts - Seattle Sneakers\n",
      "\n",
      "Ft. Worth Piano Tuners - Baltimore Texas\n",
      "\n",
      "Elko Astronauts - Ft. Worth Piano Tuners\n",
      "\n",
      "Tucson Butchers - Seattle Sneakers\n",
      "\n",
      "Jersey OSHA Violations - Seattle Sneakers\n",
      "\n",
      "Tucson Butchers - Ft. Worth Piano Tuners\n",
      "\n",
      "Long Beach Flightless Birds - Jersey OSHA Violations\n"
     ]
    }
   ],
   "source": [
    "random.seed(420)\n",
    "random.shuffle(c_league)\n",
    "classic_c_matchups = [f\"{a} - {b}\" for a,b in itertools.combinations(c_league, 2)]\n",
    "random.shuffle(classic_c_matchups)\n",
    "print(\"\\n\\n\".join(classic_c_matchups))"
   ]
  },
  {
   "cell_type": "markdown",
   "id": "949d40f4",
   "metadata": {},
   "source": [
    "### Expansion Teams\n"
   ]
  },
  {
   "cell_type": "code",
   "execution_count": 15,
   "id": "0e83d6d3",
   "metadata": {},
   "outputs": [],
   "source": [
    "which_season0 = 18\n",
    "teams_file = os.path.join('..', 'data', f'gollyx-{CUP}-data', f'season{which_season0}', 'teams.json')\n",
    "with open(teams_file, 'r') as f:\n",
    "    xp_teams = json.load(f)"
   ]
  },
  {
   "cell_type": "code",
   "execution_count": 16,
   "id": "2c5052f1",
   "metadata": {},
   "outputs": [
    {
     "name": "stdout",
     "output_type": "stream",
     "text": [
      "Tucson Butchers\n",
      "Seattle Sneakers\n",
      "Salt Lake Turbulence\n",
      "Sugar Grove Eavesdroppers\n",
      "San Francisco Boat Shoes\n",
      "San Diego Balloon Animals\n",
      "Sacramento Boot Lickers\n",
      "Orlando Business Majors\n",
      "Milwaukee Flamingos\n",
      "Long Beach Flightless Birds\n",
      "Jersey OSHA Violations\n",
      "Ft. Worth Piano Tuners\n",
      "Phoenix Freshrolls\n",
      "Elko Astronauts\n",
      "Detroit Grape Chews\n",
      "Delaware Corporate Shells\n",
      "Baltimore Texas\n",
      "Boylston Boogers\n",
      "Albuquerque Solarpunks\n",
      "Alewife Arsonists\n"
     ]
    }
   ],
   "source": [
    "print(\"\\n\".join([t['teamName'] for t in xp_teams]))"
   ]
  },
  {
   "cell_type": "code",
   "execution_count": 12,
   "id": "0ab3b14c",
   "metadata": {},
   "outputs": [],
   "source": [
    "h_xpleague = [t['teamName'] for t in xp_teams if 'Hot' in t['league']]\n",
    "c_xpleague = [t['teamName'] for t in xp_teams if 'Cold' in t['league']]"
   ]
  },
  {
   "cell_type": "code",
   "execution_count": 13,
   "id": "439c7d5a",
   "metadata": {},
   "outputs": [
    {
     "name": "stdout",
     "output_type": "stream",
     "text": [
      "Sacramento Boot Lickers - Sugar Grove Eavesdroppers\n",
      "\n",
      "Boylston Boogers - Alewife Arsonists\n",
      "\n",
      "Delaware Corporate Shells - Alewife Arsonists\n",
      "\n",
      "Delaware Corporate Shells - San Francisco Boat Shoes\n",
      "\n",
      "Orlando Business Majors - Sugar Grove Eavesdroppers\n",
      "\n",
      "Detroit Grape Chews - Boylston Boogers\n",
      "\n",
      "Albuquerque Solarpunks - San Francisco Boat Shoes\n",
      "\n",
      "Albuquerque Solarpunks - Detroit Grape Chews\n",
      "\n",
      "Orlando Business Majors - Detroit Grape Chews\n",
      "\n",
      "Albuquerque Solarpunks - Alewife Arsonists\n",
      "\n",
      "Orlando Business Majors - Milwaukee Flamingos\n",
      "\n",
      "Orlando Business Majors - Boylston Boogers\n",
      "\n",
      "Delaware Corporate Shells - Orlando Business Majors\n",
      "\n",
      "Delaware Corporate Shells - Albuquerque Solarpunks\n",
      "\n",
      "Albuquerque Solarpunks - Sacramento Boot Lickers\n",
      "\n",
      "Albuquerque Solarpunks - Boylston Boogers\n",
      "\n",
      "Delaware Corporate Shells - Sugar Grove Eavesdroppers\n",
      "\n",
      "Delaware Corporate Shells - Detroit Grape Chews\n",
      "\n",
      "Albuquerque Solarpunks - Milwaukee Flamingos\n",
      "\n",
      "Alewife Arsonists - Sacramento Boot Lickers\n",
      "\n",
      "Delaware Corporate Shells - Boylston Boogers\n",
      "\n",
      "Alewife Arsonists - San Francisco Boat Shoes\n",
      "\n",
      "Albuquerque Solarpunks - Sugar Grove Eavesdroppers\n",
      "\n",
      "Orlando Business Majors - Sacramento Boot Lickers\n",
      "\n",
      "Orlando Business Majors - San Francisco Boat Shoes\n",
      "\n",
      "Sacramento Boot Lickers - San Francisco Boat Shoes\n",
      "\n",
      "Boylston Boogers - Milwaukee Flamingos\n",
      "\n",
      "San Francisco Boat Shoes - Sugar Grove Eavesdroppers\n",
      "\n",
      "Delaware Corporate Shells - Sacramento Boot Lickers\n",
      "\n",
      "Boylston Boogers - Sacramento Boot Lickers\n",
      "\n",
      "Milwaukee Flamingos - San Francisco Boat Shoes\n",
      "\n",
      "Boylston Boogers - Sugar Grove Eavesdroppers\n",
      "\n",
      "Delaware Corporate Shells - Milwaukee Flamingos\n",
      "\n",
      "Detroit Grape Chews - Milwaukee Flamingos\n",
      "\n",
      "Detroit Grape Chews - Alewife Arsonists\n",
      "\n",
      "Albuquerque Solarpunks - Orlando Business Majors\n",
      "\n",
      "Alewife Arsonists - Sugar Grove Eavesdroppers\n",
      "\n",
      "Milwaukee Flamingos - Sugar Grove Eavesdroppers\n",
      "\n",
      "Milwaukee Flamingos - Alewife Arsonists\n",
      "\n",
      "Orlando Business Majors - Alewife Arsonists\n",
      "\n",
      "Boylston Boogers - San Francisco Boat Shoes\n",
      "\n",
      "Detroit Grape Chews - San Francisco Boat Shoes\n",
      "\n",
      "Milwaukee Flamingos - Sacramento Boot Lickers\n",
      "\n",
      "Detroit Grape Chews - Sacramento Boot Lickers\n",
      "\n",
      "Detroit Grape Chews - Sugar Grove Eavesdroppers\n"
     ]
    }
   ],
   "source": [
    "random.seed(69)\n",
    "random.shuffle(h_xpleague)\n",
    "xp_h_matchups = [f\"{a} - {b}\" for a,b in itertools.combinations(h_xpleague, 2)]\n",
    "random.shuffle(xp_h_matchups)\n",
    "print(\"\\n\\n\".join(xp_h_matchups))"
   ]
  },
  {
   "cell_type": "code",
   "execution_count": 14,
   "id": "c184eb38",
   "metadata": {},
   "outputs": [
    {
     "name": "stdout",
     "output_type": "stream",
     "text": [
      "Phoenix Freshrolls - Elko Astronauts\n",
      "\n",
      "Salt Lake Turbulence - Tucson Butchers\n",
      "\n",
      "Seattle Sneakers - Elko Astronauts\n",
      "\n",
      "Seattle Sneakers - Phoenix Freshrolls\n",
      "\n",
      "Seattle Sneakers - Long Beach Flightless Birds\n",
      "\n",
      "Phoenix Freshrolls - Jersey OSHA Violations\n",
      "\n",
      "Phoenix Freshrolls - Baltimore Texas\n",
      "\n",
      "Elko Astronauts - Jersey OSHA Violations\n",
      "\n",
      "Phoenix Freshrolls - San Diego Balloon Animals\n",
      "\n",
      "Salt Lake Turbulence - Elko Astronauts\n",
      "\n",
      "Elko Astronauts - Baltimore Texas\n",
      "\n",
      "Seattle Sneakers - San Diego Balloon Animals\n",
      "\n",
      "Ft. Worth Piano Tuners - Baltimore Texas\n",
      "\n",
      "Salt Lake Turbulence - San Diego Balloon Animals\n",
      "\n",
      "Elko Astronauts - Long Beach Flightless Birds\n",
      "\n",
      "Jersey OSHA Violations - Tucson Butchers\n",
      "\n",
      "Salt Lake Turbulence - Jersey OSHA Violations\n",
      "\n",
      "Long Beach Flightless Birds - Jersey OSHA Violations\n",
      "\n",
      "Seattle Sneakers - Tucson Butchers\n",
      "\n",
      "Ft. Worth Piano Tuners - Phoenix Freshrolls\n",
      "\n",
      "Salt Lake Turbulence - Baltimore Texas\n",
      "\n",
      "Seattle Sneakers - Baltimore Texas\n",
      "\n",
      "Ft. Worth Piano Tuners - Seattle Sneakers\n",
      "\n",
      "Baltimore Texas - Jersey OSHA Violations\n",
      "\n",
      "Baltimore Texas - San Diego Balloon Animals\n",
      "\n",
      "Ft. Worth Piano Tuners - Elko Astronauts\n",
      "\n",
      "Long Beach Flightless Birds - Tucson Butchers\n",
      "\n",
      "Phoenix Freshrolls - Tucson Butchers\n",
      "\n",
      "Ft. Worth Piano Tuners - San Diego Balloon Animals\n",
      "\n",
      "Seattle Sneakers - Jersey OSHA Violations\n",
      "\n",
      "San Diego Balloon Animals - Jersey OSHA Violations\n",
      "\n",
      "Ft. Worth Piano Tuners - Long Beach Flightless Birds\n",
      "\n",
      "Seattle Sneakers - Salt Lake Turbulence\n",
      "\n",
      "Baltimore Texas - Long Beach Flightless Birds\n",
      "\n",
      "Baltimore Texas - Tucson Butchers\n",
      "\n",
      "Ft. Worth Piano Tuners - Jersey OSHA Violations\n",
      "\n",
      "Salt Lake Turbulence - Phoenix Freshrolls\n",
      "\n",
      "Phoenix Freshrolls - Long Beach Flightless Birds\n",
      "\n",
      "Salt Lake Turbulence - Long Beach Flightless Birds\n",
      "\n",
      "Elko Astronauts - Tucson Butchers\n",
      "\n",
      "Ft. Worth Piano Tuners - Tucson Butchers\n",
      "\n",
      "San Diego Balloon Animals - Long Beach Flightless Birds\n",
      "\n",
      "Ft. Worth Piano Tuners - Salt Lake Turbulence\n",
      "\n",
      "San Diego Balloon Animals - Tucson Butchers\n",
      "\n",
      "Elko Astronauts - San Diego Balloon Animals\n"
     ]
    }
   ],
   "source": [
    "random.seed(420)\n",
    "random.shuffle(c_xpleague)\n",
    "xp_c_matchups = [f\"{a} - {b}\" for a,b in itertools.combinations(c_xpleague, 2)]\n",
    "random.shuffle(xp_c_matchups)\n",
    "print(\"\\n\\n\".join(xp_c_matchups))"
   ]
  },
  {
   "cell_type": "code",
   "execution_count": null,
   "id": "73d7c6b8",
   "metadata": {},
   "outputs": [],
   "source": []
  }
 ],
 "metadata": {
  "kernelspec": {
   "display_name": "Python 3 (ipykernel)",
   "language": "python",
   "name": "python3"
  },
  "language_info": {
   "codemirror_mode": {
    "name": "ipython",
    "version": 3
   },
   "file_extension": ".py",
   "mimetype": "text/x-python",
   "name": "python",
   "nbconvert_exporter": "python",
   "pygments_lexer": "ipython3",
   "version": "3.9.18"
  }
 },
 "nbformat": 4,
 "nbformat_minor": 5
}
